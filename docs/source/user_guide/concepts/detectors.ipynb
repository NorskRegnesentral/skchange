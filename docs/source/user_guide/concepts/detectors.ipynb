{
 "cells": [
  {
   "cell_type": "markdown",
   "metadata": {},
   "source": [
    "# Detectors"
   ]
  },
  {
   "cell_type": "markdown",
   "metadata": {},
   "source": [
    "Skchange detectors inherit from and extend the Sktime's `BaseDetector` class.\n",
    "This enables a unified interface for both change and anomaly detection, making it easy to switch between different detectors and reuse surrounding code such as preprocessing, evaluation, tuning, and visualisation.\n",
    "It also facilitates the development of new detectors by providing a clear structure and set of guidelines."
   ]
  },
  {
   "cell_type": "markdown",
   "metadata": {},
   "source": [
    "## Conceptual model\n",
    "All detectors in Skchange and Sktime are built around the conceptual model below.\n",
    "\n",
    "1. Input: A time series.\n",
    "2. Output: Locations of events in the time series.\n",
    "    * Changepoints,\n",
    "    * Segments,\n",
    "    * Point anomalies.\n",
    "    * Segment anomalies\n",
    "    * ...\n",
    "\n",
    "Length(output) = Number of detected events."
   ]
  },
  {
   "cell_type": "markdown",
   "metadata": {
    "vscode": {
     "languageId": "shellscript"
    }
   },
   "source": [
    "## Change detectors\n",
    "\n",
    "### The task\n",
    "\n",
    "Change detection is the task of identifying abrupt changes in the distribution of a time series. The goal is to estimate the time points at which the distribution changes. These points are called change points (or change-points or changepoints).\n",
    "\n",
    "<!-- Here is an example of two changes in the mean of a Gaussian time series with unit variance.\n",
    "\n",
    "![](../_static/images/changepoint_illustration.png) -->\n"
   ]
  },
  {
   "cell_type": "markdown",
   "metadata": {},
   "source": [
    "Here is some 3-dimensional toy data with three changes in the mean of a Gaussian time series with unit variance. This data will be used in the examples throughout this section."
   ]
  },
  {
   "cell_type": "code",
   "execution_count": null,
   "metadata": {},
   "outputs": [],
   "source": [
    "from skchange.datasets import generate_piecewise_normal_data\n",
    "\n",
    "x = generate_piecewise_normal_data(\n",
    "    means=[0, [8.0, 0.0, 0.0], 0.0, [2.0, 3.0, 5.0]],\n",
    "    lengths=[100, 40, 80, 80],\n",
    "    seed=8,\n",
    ")\n",
    "x.columns = [\"var0\", \"var1\", \"var2\"]\n",
    "x.index.name = \"time\"\n",
    "x"
   ]
  },
  {
   "cell_type": "code",
   "execution_count": null,
   "metadata": {},
   "outputs": [],
   "source": [
    "import plotly.express as px\n",
    "import plotly.io as pio\n",
    "\n",
    "pio.renderers.default = \"notebook\"\n",
    "\n",
    "px.line(x)"
   ]
  },
  {
   "cell_type": "markdown",
   "metadata": {},
   "source": [
    "Changes may occur in much more complex ways. For example, changes can affect:\n",
    "\n",
    "- Variance.\n",
    "- Shape of the distribution.\n",
    "- Auto-correlation.\n",
    "- The slope of a linear trend.\n",
    "- Relationships between variables in multivariate time series.\n",
    "- An unknown, small portion of variables in a high-dimensional time series.\n",
    "\n",
    "Skchange supports detecting changes in all of these scenarios, amongst others."
   ]
  },
  {
   "cell_type": "markdown",
   "metadata": {},
   "source": [
    "### Composable change detectors\n",
    "Let us estimate the change points in the toy data using a change detector."
   ]
  },
  {
   "cell_type": "code",
   "execution_count": null,
   "metadata": {},
   "outputs": [],
   "source": [
    "from skchange.change_detectors import MovingWindow\n",
    "from skchange.change_scores import CUSUM\n",
    "\n",
    "detector = MovingWindow(\n",
    "    change_score=CUSUM(),\n",
    "    penalty=10,\n",
    ")\n",
    "detector"
   ]
  },
  {
   "cell_type": "markdown",
   "metadata": {},
   "source": [
    "\n",
    "Let us look at each each part of the detector in more detail:\n",
    "\n",
    "1. `change_score`: Represents the choice of feature to detect changes in. `CUSUM` is a popular choice for detecting changes in the mean of a time series.\n",
    "2. `penalty`: Used to control the complexity of the change point model. The higher the penalty, the fewer change points will be detected.\n",
    "3. `detector`: The search algorithm for detecting change points. It governs the slices of data the change score is evaluated on and how the results are compiled to a final set of detected change points.\n",
    "\n",
    "In Skchange, all detectors follow the same pattern. They are composed of a score to be evaluated on data intervals, and a penalty. See the section on [Interval scorers](./interval_scores.ipynb) for more information.\n",
    "\n",
    "To detect changes and segment anomalies, Skchange follows a familiar scikit-learn-type API.\n",
    "All detectors inherit from the `BaseDetector` class of Sktime to make it interoperable with the Sktime ecosystem of tools like pipelines, preprocessing, transformations, performance evaluation and so on. \n",
    "This also means that you can use the same API to detect both changes and segment anomalies, regardless of which detector you choose."
   ]
  },
  {
   "cell_type": "markdown",
   "metadata": {},
   "source": [
    "### `fit`\n",
    "After initialising your detector of choice, you need to fit it to training data before you can use it to detect change points on test data. `fit` always returns a fitted instance of itself. Not all detectors have any parameters to fit. In this case, `fit` does nothing. This is the case for our example `MovingWindow` detector."
   ]
  },
  {
   "cell_type": "code",
   "execution_count": null,
   "metadata": {},
   "outputs": [],
   "source": [
    "detector.fit(x)"
   ]
  },
  {
   "cell_type": "code",
   "execution_count": null,
   "metadata": {},
   "outputs": [],
   "source": [
    "detector.is_fitted"
   ]
  },
  {
   "cell_type": "code",
   "execution_count": null,
   "metadata": {},
   "outputs": [],
   "source": [
    "detector.get_fitted_params()"
   ]
  },
  {
   "cell_type": "markdown",
   "metadata": {},
   "source": [
    "### `predict`\n",
    "After fitting the detector, you can use it to detect change points in test data `x`. The `predict` method returns a `pd.DataFrame` with the `\"ilocs\"` column holding the integer locations of the detected changepoints."
   ]
  },
  {
   "cell_type": "code",
   "execution_count": null,
   "metadata": {},
   "outputs": [],
   "source": [
    "detections = detector.predict(x)\n",
    "detections"
   ]
  },
  {
   "cell_type": "code",
   "execution_count": null,
   "metadata": {},
   "outputs": [],
   "source": [
    "from skchange.utils.plotting import plot_detections\n",
    "\n",
    "plot_detections(x, detections, data_repr=\"line\")"
   ]
  },
  {
   "cell_type": "markdown",
   "metadata": {},
   "source": [
    "In Skchange, the change points indicate the *inclusive start* of a new segment. That is, the segmentation according to the detected changepoints in this example is `0:100`, `100:140`, `140:220` and `220:300`."
   ]
  },
  {
   "cell_type": "markdown",
   "metadata": {},
   "source": [
    "### `transform`\n",
    "You can use the `transform` method to label the data according to the change point segmentation. The output is a `pd.DataFrame` with the same index as the input `x` and an integer column `\"labels\"` indicating which segment the index belongs to."
   ]
  },
  {
   "cell_type": "code",
   "execution_count": null,
   "metadata": {},
   "outputs": [],
   "source": [
    "labels = detector.transform(x)\n",
    "labels"
   ]
  },
  {
   "cell_type": "code",
   "execution_count": null,
   "metadata": {},
   "outputs": [],
   "source": [
    "px.line(labels)"
   ]
  },
  {
   "cell_type": "markdown",
   "metadata": {},
   "source": [
    "This is useful for group-by operations per segment, for example."
   ]
  },
  {
   "cell_type": "code",
   "execution_count": null,
   "metadata": {},
   "outputs": [],
   "source": [
    "x.join(labels).groupby(\"labels\").agg([\"mean\", \"std\"])"
   ]
  },
  {
   "cell_type": "markdown",
   "metadata": {},
   "source": [
    "### `transform_scores`\n",
    "Some detectors also support the `transform_scores` method, which returns the *penalised* change scores for each data point. This is the case for `MovingWindow`."
   ]
  },
  {
   "cell_type": "code",
   "execution_count": null,
   "metadata": {},
   "outputs": [],
   "source": [
    "detection_scores = detector.transform_scores(x)\n",
    "detection_scores"
   ]
  },
  {
   "cell_type": "code",
   "execution_count": null,
   "metadata": {},
   "outputs": [],
   "source": [
    "px.line(detection_scores)"
   ]
  },
  {
   "cell_type": "markdown",
   "metadata": {},
   "source": [
    "For the `MovingWindow` detector, the peaks in the penalised scores correspond to the detected change points."
   ]
  },
  {
   "cell_type": "markdown",
   "metadata": {},
   "source": [
    "## Segment anomaly detectors\n"
   ]
  },
  {
   "cell_type": "markdown",
   "metadata": {},
   "source": [
    "### The task\n",
    "Segment anomaly detection is the task of identifying segments of a time series where the data behaves differently than expected.\n",
    "The goal is to estimate starts and ends of such segments.\n",
    "It is an important special case of change detection where certain segments are deemed \"normal\" and others are \"anomalous\". In most settings, a vast majority of the data is \"normal\"."
   ]
  },
  {
   "cell_type": "markdown",
   "metadata": {},
   "source": [
    "We use the same data as before, but now we consider the segments `100:140` and `220:300` as segment anomalies, and the remaining data as \"normal\" or \"baseline\" data."
   ]
  },
  {
   "cell_type": "code",
   "execution_count": null,
   "metadata": {},
   "outputs": [],
   "source": [
    "px.line(x)"
   ]
  },
  {
   "cell_type": "markdown",
   "metadata": {},
   "source": [
    "As for change detection, segment anomalies may also affect the data in numerous other ways than sudden jumps in the mean."
   ]
  },
  {
   "cell_type": "markdown",
   "metadata": {},
   "source": [
    "### Composable segment anomaly detectors\n",
    "Let us use the `CAPA` detector to detect segment anomalies in the toy data. It consists of the same components as the change detector we used before: A detector (`CAPA`), an interval score (`segment_saving`) and a penalty (`segment_penalty`). \"Savings\" is one of two types of anomaly scores supported in Skchange. You can read more about them in the [Concepts](./concepts/interval_scores.ipynb) section."
   ]
  },
  {
   "cell_type": "code",
   "execution_count": null,
   "metadata": {},
   "outputs": [],
   "source": [
    "from skchange.anomaly_detectors import CAPA\n",
    "from skchange.anomaly_scores import L2Saving\n",
    "\n",
    "detector = CAPA(\n",
    "    segment_saving=L2Saving(),\n",
    "    segment_penalty=20,\n",
    ")\n",
    "detector"
   ]
  },
  {
   "cell_type": "markdown",
   "metadata": {},
   "source": [
    "### `fit`\n",
    "We fit the detector to obtain a fitted instance."
   ]
  },
  {
   "cell_type": "code",
   "execution_count": null,
   "metadata": {},
   "outputs": [],
   "source": [
    "detector.fit(x)"
   ]
  },
  {
   "cell_type": "markdown",
   "metadata": {},
   "source": [
    "### `predict`\n",
    "As for change detection, `predict` is used to detect segment anomalies in test data `x`. The output is a `pd.DataFrame` with the `\"ilocs\"` column holding the integer locations of segment anomalies as `pd.Interval`s, and the `\"labels\"` column holding unique labels for each segment. The labels run from 1, ..., K, where K is the number of detected segment anomalies."
   ]
  },
  {
   "cell_type": "code",
   "execution_count": null,
   "metadata": {},
   "outputs": [],
   "source": [
    "detections = detector.predict(x)\n",
    "detections"
   ]
  },
  {
   "cell_type": "code",
   "execution_count": null,
   "metadata": {},
   "outputs": [],
   "source": [
    "plot_detections(x, detections, data_repr=\"line\")"
   ]
  },
  {
   "cell_type": "markdown",
   "metadata": {},
   "source": [
    "### `transform`\n",
    "The `transform` method labels the data according to the segment anomaly segmentation. The output is a `pd.DataFrame` with the same index as the input `x` and an integer column `\"labels\"` indicating which segment the index belongs to. The label `0` denotes the normal segments, and the labels `>0` denote the segment anomalies."
   ]
  },
  {
   "cell_type": "code",
   "execution_count": null,
   "metadata": {},
   "outputs": [],
   "source": [
    "labels = detector.transform(x)\n",
    "labels"
   ]
  },
  {
   "cell_type": "code",
   "execution_count": null,
   "metadata": {},
   "outputs": [],
   "source": [
    "px.line(labels)"
   ]
  },
  {
   "cell_type": "markdown",
   "metadata": {},
   "source": [
    "### `transform_scores`\n",
    "`CAPA` also supportes the `transform_scores` method. It returns the cumulative optimal penalised saving at each index."
   ]
  },
  {
   "cell_type": "code",
   "execution_count": null,
   "metadata": {},
   "outputs": [],
   "source": [
    "capa_scores = detector.transform_scores(x)\n",
    "px.line(capa_scores)"
   ]
  }
 ],
 "metadata": {
  "kernelspec": {
   "display_name": "skchange",
   "language": "python",
   "name": "python3"
  },
  "language_info": {
   "codemirror_mode": {
    "name": "ipython",
    "version": 3
   },
   "file_extension": ".py",
   "mimetype": "text/x-python",
   "name": "python",
   "nbconvert_exporter": "python",
   "pygments_lexer": "ipython3",
   "version": "3.12.10"
  }
 },
 "nbformat": 4,
 "nbformat_minor": 2
}
