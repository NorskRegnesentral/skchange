{
 "cells": [
  {
   "cell_type": "markdown",
   "metadata": {},
   "source": [
    "# Detectors\n",
    "Skchange detectors inherit from and extends `sktime`'s `BaseDetector` class.\n",
    "This enables a unified interface for both change and anomaly detection, making it easy to switch between different detectors and reuse surrounding code such as preprocessing, evaluation, tuning, and visualisation.\n",
    "It also facilitates the development of new detectors by providing a clear structure and set of guidelines.\n",
    "\n",
    "In this guide, we cover the following topics:\n",
    "\n",
    "- Conceptual model of detectors\n",
    "- Detector API\n",
    "- Simple usage examples"
   ]
  },
  {
   "cell_type": "markdown",
   "metadata": {},
   "source": [
    "## Conceptual model\n",
    "All detectors in Skchange and `sktime` are built around the conceptual model below.\n",
    "\n",
    "1. Input: A time series.\n",
    "2. Output: Locations of events in the time series.\n",
    "    * Changepoints,\n",
    "    * Segments,\n",
    "    * Point anomalies.\n",
    "    * Segment anomalies\n",
    "    * ...\n",
    "\n",
    "Length(output) = Number of detected events."
   ]
  },
  {
   "cell_type": "markdown",
   "metadata": {},
   "source": [
    "## Usage and API"
   ]
  },
  {
   "cell_type": "markdown",
   "metadata": {},
   "source": [
    "See the [Getting started](../getting_started.ipynb) section."
   ]
  }
 ],
 "metadata": {
  "language_info": {
   "name": "python"
  }
 },
 "nbformat": 4,
 "nbformat_minor": 2
}
