{
 "cells": [
  {
   "cell_type": "markdown",
   "metadata": {},
   "source": [
    "# Interval scorers"
   ]
  },
  {
   "cell_type": "markdown",
   "metadata": {},
   "source": [
    "Skchange provides modular algorithms for change and anomaly detection.\n",
    "All detectors are composed of a user-selected *interval scorer*.\n",
    "The choice of interval scorer represents the choice of distributional feature(s) to detect changes in, for example the mean, the variance, the full distribution, or something else. <!-- [TODO: Add list of all features currently supported] -->\n",
    "Interval scorers are not meant to be used directly by the user, but they are important to understand to make full use of the library.\n",
    "For example, interval scorers can be combined and used as building blocks to create more complex interval scorers.\n",
    "\n",
    "There are four types of interval scorers in Skchange:\n",
    "\n",
    "1. `cost`\n",
    "2. `change_score`\n",
    "3. `saving`\n",
    "4. `local_anomaly_score`\n",
    "\n",
    "Different algorithms use different types."
   ]
  },
  {
   "cell_type": "markdown",
   "metadata": {},
   "source": [
    "Contains:\n",
    "\n",
    "* Motivation: Why Interval scorers?\n",
    "\n",
    "    - Modularity\n",
    "    - Flexibility\n",
    "    - Computational efficiency\n",
    "* The different types and what they are.\n",
    "* The API: `fit`, `evaluate(cuts)`.\n",
    "* Examples:\n",
    "    \n",
    "    - Simple exampls.\n",
    "    - Slightly more complex examples to show the advantages of using interval scorers."
   ]
  },
  {
   "cell_type": "markdown",
   "metadata": {},
   "source": [
    "Here is an example of a `cost`. A cost measures the cost/loss/error of a model fit to a data interval `X[s:e]`."
   ]
  },
  {
   "cell_type": "code",
   "execution_count": null,
   "metadata": {},
   "outputs": [],
   "source": [
    "from skchange.costs import GaussianCost\n",
    "from skchange.datasets import generate_changing_data\n",
    "\n",
    "x = generate_changing_data(n=100, changepoints=[50], means=[0, 5])\n",
    "\n",
    "cost = GaussianCost()  # Cost for a Gaussian model with constant mean and variance.\n",
    "cost.fit(x)  # Set up the cost for interval evaluation on the given data.\n",
    "cost.evaluate([0, 10])  # Evaluate the cost for the given interval, X[0:10]."
   ]
  },
  {
   "cell_type": "markdown",
   "metadata": {},
   "source": [
    "Another type of interval score are *change scores*. A change score measures the degree of change between two adjacent intervals `X[s:k]` and `X[k:e]`. They can be statistical tests, time series distances, or any other measure of difference."
   ]
  },
  {
   "cell_type": "code",
   "execution_count": null,
   "metadata": {},
   "outputs": [],
   "source": [
    "from skchange.change_scores import CUSUM\n",
    "\n",
    "score = CUSUM()  # CUSUM score for a change in mean.\n",
    "score.fit(X)  # Set up the score for the given data.\n",
    "score.evaluate([0, 5, 10])  # Evaluate the change score between X[0, 5] and X[5, 10]."
   ]
  },
  {
   "cell_type": "markdown",
   "metadata": {},
   "source": [
    "We can also compute several interval scores at once."
   ]
  },
  {
   "cell_type": "code",
   "execution_count": null,
   "metadata": {},
   "outputs": [],
   "source": [
    "score.evaluate([[0, 5, 10], [10, 12, 30], [60, 69, 71]])"
   ]
  },
  {
   "cell_type": "markdown",
   "metadata": {},
   "source": [
    "The computational bottleneck of change detection algorithms is to evaluate an interval score over a large number of intervals and possible splits. In Skchange, this is solved as follows:\n",
    "\n",
    "- In `fit`, relevant quantities are precomputed to speed up the cost evaluations.\n",
    "- In `evaluate`, `numba` is often used to efficiently evaluate many interval-split-pairs in one call."
   ]
  },
  {
   "cell_type": "markdown",
   "metadata": {},
   "source": [
    "Moreover, costs can always be used to construct a change score by the following formula:\n",
    "```\n",
    "score.evaluate([start, split, end]) = cost.evaluate([start, end]) - (cost.evaluate([start, split]) + cost.evaluate([split, end]))\n",
    "```\n",
    "You can read this formula as \"score = cost of the interval without a change point - cost of the interval with a single change point\"\n",
    "\n",
    "This means that you can always pass a cost to a change detector, even the ones that expects change scores, because it is converted to a change score internally.\n",
    "\n",
    "At the same time, we also support change scores that can not be reduced to costs. This is different from e.g. the `ruptures` library. There are quite a few important scores that can not be reduced to costs, such as the Mann-Whitney U test, the Kolmogorov-Smirnov test, as well as scores for sparse change detection."
   ]
  }
 ],
 "metadata": {
  "language_info": {
   "name": "python"
  }
 },
 "nbformat": 4,
 "nbformat_minor": 2
}
