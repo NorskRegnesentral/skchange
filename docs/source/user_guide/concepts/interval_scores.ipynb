{
 "cells": [
  {
   "cell_type": "markdown",
   "metadata": {},
   "source": [
    "# Interval scores"
   ]
  },
  {
   "cell_type": "markdown",
   "metadata": {},
   "source": [
    "The choice of interval score represents the choice of distributional feature(s) to detect changes in.\n",
    "\n",
    "Interval scores are not primarly meant to be used directly, but they are important building blocks to understand to make full use of the library."
   ]
  }
 ],
 "metadata": {
  "language_info": {
   "name": "python"
  }
 },
 "nbformat": 4,
 "nbformat_minor": 2
}
