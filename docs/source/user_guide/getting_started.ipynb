{
 "cells": [
  {
   "cell_type": "markdown",
   "metadata": {},
   "source": [
    "# Getting started"
   ]
  },
  {
   "cell_type": "markdown",
   "metadata": {},
   "source": [
    "This section is here to help you getting started with Skchange. It covers the fundamental concepts of the library in a brief and concise way."
   ]
  },
  {
   "cell_type": "markdown",
   "metadata": {},
   "source": [
    "## Installation\n",
    "```bash\n",
    "pip install skchange\n",
    "```\n",
    "\n",
    "To make full use of the library, you can install the optional Numba dependency. This will speed up the computation of the algorithms in Skchange, often by as much as 10-100 times.\n",
    "\n",
    "```bash\n",
    "pip install skchange[numba]\n",
    "```"
   ]
  },
  {
   "cell_type": "markdown",
   "metadata": {
    "vscode": {
     "languageId": "shellscript"
    }
   },
   "source": [
    "## Change detection\n",
    "\n",
    "### The task\n",
    "\n",
    "Change detection is the task of identifying abrupt changes in the distribution of a time series. The goal is to estimate the time points at which the distribution changes. These points are called change points (or change-points or changepoints).\n",
    "\n",
    "Here is an example of two changes in the mean of a Gaussian time series with unit variance.\n",
    "\n",
    "![](../_static/images/changepoint_illustration.png)\n",
    "\n",
    "Changes may occur in much more complex ways. For example, changes can affect:\n",
    "\n",
    "- Variance.\n",
    "- Shape of the distribution.\n",
    "- Auto-correlation.\n",
    "- Relationships between variables in multivariate time series.\n",
    "- An unknown, small portion of variables in a high-dimensional time series.\n",
    "\n",
    "Skchange supports detecting changes in all of these scenarios, amongst others."
   ]
  },
  {
   "cell_type": "markdown",
   "metadata": {},
   "source": [
    "### Composable change detectors\n",
    "Skchange follows a familiar scikit-learn-type API and is compatible with Sktime."
   ]
  },
  {
   "cell_type": "markdown",
   "metadata": {},
   "source": [
    "Here's an example of a change detector:"
   ]
  },
  {
   "cell_type": "code",
   "execution_count": null,
   "metadata": {},
   "outputs": [],
   "source": [
    "from skchange.change_detectors import MovingWindow\n",
    "from skchange.change_scores import CUSUM\n",
    "\n",
    "detector = MovingWindow(\n",
    "    change_score=CUSUM(),\n",
    "    penalty=10,\n",
    ")\n",
    "detector"
   ]
  },
  {
   "cell_type": "markdown",
   "metadata": {},
   "source": [
    "\n",
    "Let us look at each each part of the detector in more detail:\n",
    "\n",
    "1. `change_score`: Represents the choice of feature to detect changes in. `CUSUM` is a popular choice for detecting changes in the mean of a time series.\n",
    "2. `penalty`: Used to control the complexity of the change point model. The higher the penalty, the fewer change points will be detected.\n",
    "3. `detector`: The search algorithm for detecting change points. It governs which data intervals the change score is evaluated on and how the results are compiled to a final set of detected change points.\n",
    "\n",
    "In Skchange, all detectors follow the same pattern. They are composed of some kind of score to be evaluated on data intervals, and a penalty. You can read more about the core components of Skchange in the [Concepts](./concepts/index.rst) section."
   ]
  },
  {
   "cell_type": "markdown",
   "metadata": {},
   "source": [
    "### `fit`\n",
    "After initialising your detector of choice, you need to fit it to training data before you can use it to detect change points.\n",
    "\n",
    "Here are some 3-dimensional Gaussian toy data with four segments with different means vectors."
   ]
  },
  {
   "cell_type": "code",
   "execution_count": null,
   "metadata": {},
   "outputs": [],
   "source": [
    "import numpy as np\n",
    "\n",
    "from skchange.datasets import generate_changing_data\n",
    "\n",
    "n = 300\n",
    "cpts = [100, 140, 220]\n",
    "means = [\n",
    "    np.array([0.0, 0.0, 0.0]),\n",
    "    np.array([8.0, 0.0, 0.0]),\n",
    "    np.array([0.0, 0.0, 0.0]),\n",
    "    np.array([2.0, 3.0, 5.0]),\n",
    "]\n",
    "x = generate_changing_data(n, changepoints=cpts, means=means, random_state=8)\n",
    "x.columns = [\"var0\", \"var1\", \"var2\"]\n",
    "x.index.name = \"time\"\n",
    "x"
   ]
  },
  {
   "cell_type": "markdown",
   "metadata": {},
   "source": [
    "Here is what the data looks like:"
   ]
  },
  {
   "cell_type": "code",
   "execution_count": null,
   "metadata": {},
   "outputs": [],
   "source": [
    "import plotly.express as px\n",
    "\n",
    "px.line(x)"
   ]
  },
  {
   "cell_type": "markdown",
   "metadata": {},
   "source": [
    "As in scikit-learn, the role of `fit` is to estimate certain parameters of the detector before it can be used for detection tasks on test data. In Skchange, all currently supported detectors have empty `fit` methods, but this may change in the future. \n",
    "<!-- the primary parameter to fit is the `penalty`. For example, `BIC = (n_params + 1) * log(n)`, where `n_params` is the total number of parameters in each segment and obtained from the change score, and `n=x.shape[0]`. -->"
   ]
  },
  {
   "cell_type": "code",
   "execution_count": null,
   "metadata": {},
   "outputs": [],
   "source": [
    "detector.fit(x)"
   ]
  },
  {
   "cell_type": "markdown",
   "metadata": {},
   "source": [
    "### `predict`\n",
    "After fitting the detector, you can use it to detect change points. The `predict` method returns the integer locations of detected change points."
   ]
  },
  {
   "cell_type": "code",
   "execution_count": null,
   "metadata": {},
   "outputs": [],
   "source": [
    "detections = detector.predict(x)\n",
    "detections"
   ]
  },
  {
   "cell_type": "markdown",
   "metadata": {},
   "source": [
    "Note that change points indicate the start of a new segment."
   ]
  },
  {
   "cell_type": "markdown",
   "metadata": {},
   "source": [
    "### `transform`\n",
    "Alternatively, you can use the `transform` method to label the data according to the change point segmentation."
   ]
  },
  {
   "cell_type": "code",
   "execution_count": null,
   "metadata": {},
   "outputs": [],
   "source": [
    "labels = detector.transform(x)\n",
    "labels"
   ]
  },
  {
   "cell_type": "code",
   "execution_count": null,
   "metadata": {},
   "outputs": [],
   "source": [
    "px.line(labels)"
   ]
  },
  {
   "cell_type": "markdown",
   "metadata": {},
   "source": [
    "This is useful for e.g. grouping operations per segment:"
   ]
  },
  {
   "cell_type": "code",
   "execution_count": null,
   "metadata": {},
   "outputs": [],
   "source": [
    "x[\"label\"] = labels\n",
    "x.groupby(\"label\").agg([\"mean\", \"std\"])"
   ]
  },
  {
   "cell_type": "markdown",
   "metadata": {},
   "source": [
    "### `transform_scores`\n",
    "Some detectors also support the `transform_scores` method, which returns the *penalised* change scores for each data point. This is the case for `MovingWindow`."
   ]
  },
  {
   "cell_type": "code",
   "execution_count": null,
   "metadata": {},
   "outputs": [],
   "source": [
    "detection_scores = detector.transform_scores(x)\n",
    "detection_scores"
   ]
  },
  {
   "cell_type": "code",
   "execution_count": null,
   "metadata": {},
   "outputs": [],
   "source": [
    "import plotly.express as px\n",
    "\n",
    "px.line(detection_scores)"
   ]
  },
  {
   "cell_type": "markdown",
   "metadata": {},
   "source": [
    "## Segment anomaly detection\n"
   ]
  },
  {
   "cell_type": "markdown",
   "metadata": {},
   "source": [
    "### The task"
   ]
  },
  {
   "cell_type": "markdown",
   "metadata": {},
   "source": [
    "### Composable segment anomaly detectors"
   ]
  },
  {
   "cell_type": "markdown",
   "metadata": {},
   "source": [
    "### `fit`"
   ]
  },
  {
   "cell_type": "markdown",
   "metadata": {},
   "source": [
    "### `predict`"
   ]
  },
  {
   "cell_type": "markdown",
   "metadata": {},
   "source": [
    "### `transform`"
   ]
  },
  {
   "cell_type": "markdown",
   "metadata": {},
   "source": [
    "### `transform_scores`"
   ]
  },
  {
   "cell_type": "markdown",
   "metadata": {},
   "source": []
  }
 ],
 "metadata": {
  "kernelspec": {
   "display_name": ".venv",
   "language": "python",
   "name": "python3"
  },
  "language_info": {
   "codemirror_mode": {
    "name": "ipython",
    "version": 3
   },
   "file_extension": ".py",
   "mimetype": "text/x-python",
   "name": "python",
   "nbconvert_exporter": "python",
   "pygments_lexer": "ipython3",
   "version": "3.12.10"
  }
 },
 "nbformat": 4,
 "nbformat_minor": 2
}
