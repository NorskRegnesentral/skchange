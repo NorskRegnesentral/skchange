{
 "cells": [
  {
   "cell_type": "markdown",
   "metadata": {},
   "source": [
    "# Getting started"
   ]
  },
  {
   "cell_type": "markdown",
   "metadata": {},
   "source": [
    "This section is here to help you get started with Skchange. It provides a range of examples to show the span of the things you can do with the library. For a more in-depth introduction to the core concepts of Skchange, please skip to the [Concepts](./concepts/index.rst) section.\n",
    " <!-- It covers the main features and basic usage of the library to solve change or anomaly detection problems. -->"
   ]
  },
  {
   "cell_type": "markdown",
   "metadata": {},
   "source": [
    "## Installation\n",
    "```bash\n",
    "pip install skchange\n",
    "```\n",
    "\n",
    "To make full use of the library, you can install the optional Numba dependency. This will speed up the computation of the algorithms in Skchange, often by as much as 10-100 times.\n",
    "\n",
    "```bash\n",
    "pip install skchange[numba]\n",
    "```"
   ]
  },
  {
   "cell_type": "markdown",
   "metadata": {},
   "source": [
    "## Change detection"
   ]
  },
  {
   "cell_type": "markdown",
   "metadata": {},
   "source": [
    "### Detect changes in the mean"
   ]
  },
  {
   "cell_type": "code",
   "execution_count": null,
   "metadata": {},
   "outputs": [],
   "source": [
    "import plotly.io as pio\n",
    "\n",
    "pio.renderers.default = \"notebook\""
   ]
  },
  {
   "cell_type": "code",
   "execution_count": null,
   "metadata": {},
   "outputs": [],
   "source": [
    "import plotly.express as px\n",
    "\n",
    "from skchange.change_detectors import SeededBinarySegmentation\n",
    "from skchange.change_scores import CUSUM\n",
    "from skchange.datasets import generate_changing_data\n",
    "\n",
    "x = generate_changing_data(\n",
    "    n=200,\n",
    "    change_points=[30, 35, 50, 100, 160],\n",
    "    means=[0, 10, 0, -3, 5, 1],\n",
    "    random_state=11,\n",
    ")\n",
    "detector = SeededBinarySegmentation(\n",
    "    CUSUM(),\n",
    "    penalty=5,\n",
    ")\n",
    "changepoints = detector.fit_predict(x)\n",
    "\n",
    "fig = px.line(x)\n",
    "for cpt in changepoints[\"ilocs\"]:\n",
    "    fig.add_vline(x=cpt, line_width=2, line_dash=\"dash\", line_color=\"red\")\n",
    "fig.show()\n",
    "changepoints"
   ]
  },
  {
   "cell_type": "markdown",
   "metadata": {},
   "source": [
    "### Detect changes in a continuous piecewise linear trend"
   ]
  },
  {
   "cell_type": "code",
   "execution_count": null,
   "metadata": {},
   "outputs": [],
   "source": [
    "from skchange.change_scores import ContinuousLinearTrendScore\n",
    "from skchange.datasets import generate_continuous_piecewise_linear_data\n",
    "\n",
    "x = generate_continuous_piecewise_linear_data(\n",
    "    n=200,\n",
    "    change_points=[30, 50, 100, 160],\n",
    "    slopes=[0, 1, -0.5, 0.5, 0.1],\n",
    "    random_state=2,\n",
    ")\n",
    "detector = SeededBinarySegmentation(\n",
    "    ContinuousLinearTrendScore(),\n",
    "    penalty=20,\n",
    "    selection_method=\"narrowest\",\n",
    ")\n",
    "changepoints = detector.fit_predict(x)\n",
    "\n",
    "fig = px.line(x)\n",
    "for cpt in changepoints[\"ilocs\"]:\n",
    "    fig.add_vline(x=cpt, line_width=2, line_dash=\"dash\", line_color=\"red\")\n",
    "fig.show()\n",
    "changepoints"
   ]
  },
  {
   "cell_type": "markdown",
   "metadata": {},
   "source": [
    "### Detect changes in a linear regression model"
   ]
  },
  {
   "cell_type": "code",
   "execution_count": null,
   "metadata": {},
   "outputs": [],
   "source": [
    "from skchange.change_detectors import PELT\n",
    "from skchange.costs import LinearRegressionCost"
   ]
  },
  {
   "cell_type": "markdown",
   "metadata": {},
   "source": [
    "### Detect changes in a high-dimensional mean vector"
   ]
  },
  {
   "cell_type": "code",
   "execution_count": null,
   "metadata": {},
   "outputs": [],
   "source": [
    "from skchange.change_detectors import MovingWindow\n",
    "from skchange.change_scores import ESACScore"
   ]
  },
  {
   "cell_type": "markdown",
   "metadata": {},
   "source": [
    "## Segment anomaly detection"
   ]
  },
  {
   "cell_type": "markdown",
   "metadata": {},
   "source": [
    "### Detect segment anomalies in the mean"
   ]
  },
  {
   "cell_type": "code",
   "execution_count": null,
   "metadata": {},
   "outputs": [],
   "source": [
    "from skchange.anomaly_detectors import CAPA\n",
    "from skchange.anomaly_scores import L2Saving"
   ]
  },
  {
   "cell_type": "markdown",
   "metadata": {},
   "source": [
    "### Detect segment anomalies in the covariance matrix"
   ]
  },
  {
   "cell_type": "code",
   "execution_count": null,
   "metadata": {},
   "outputs": [],
   "source": [
    "from skchange.anomaly_detectors import CircularBinarySegmentation\n",
    "from skchange.costs import MultivariateGaussianCost"
   ]
  },
  {
   "cell_type": "markdown",
   "metadata": {},
   "source": [
    "### Detect segment anomalies in multivariate data and identify the anomalous variables"
   ]
  },
  {
   "cell_type": "code",
   "execution_count": null,
   "metadata": {},
   "outputs": [],
   "source": [
    "from skchange.compose.penalised_score import PenalisedScore\n",
    "from skchange.datasets import generate_anomalous_data\n",
    "from skchange.penalties import make_linear_chi2_penalty\n",
    "\n",
    "n = 300\n",
    "anomalies = [(100, 120), (250, 300)]\n",
    "means = [[8.0, 0.0, 0.0], [2.0, 3.0, 5.0]]\n",
    "df = generate_anomalous_data(n, anomalies, means, random_state=3)\n",
    "p = df.shape[1]\n",
    "\n",
    "score = L2Saving()\n",
    "penalty = make_linear_chi2_penalty(score.get_model_size(1), n, p)\n",
    "penalised_score = PenalisedScore(score, penalty)\n",
    "detector = CAPA(penalised_score, find_affected_components=True)\n",
    "detector.fit_predict(df)"
   ]
  }
 ],
 "metadata": {
  "kernelspec": {
   "display_name": ".venv",
   "language": "python",
   "name": "python3"
  },
  "language_info": {
   "codemirror_mode": {
    "name": "ipython",
    "version": 3
   },
   "file_extension": ".py",
   "mimetype": "text/x-python",
   "name": "python",
   "nbconvert_exporter": "python",
   "pygments_lexer": "ipython3",
   "version": "3.12.10"
  }
 },
 "nbformat": 4,
 "nbformat_minor": 2
}
