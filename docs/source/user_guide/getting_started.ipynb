{
 "cells": [
  {
   "cell_type": "markdown",
   "metadata": {},
   "source": [
    "# Getting started"
   ]
  },
  {
   "cell_type": "markdown",
   "metadata": {},
   "source": [
    "This section will help you get started with Skchange by providing a variety of examples that demonstrate the library’s main capabilities. For a deeper understanding of Skchange’s core concepts, please refer to the [Concepts](./concepts/index.rst) section.\n",
    " <!-- It covers the main features and basic usage of the library to solve change or anomaly detection problems. -->"
   ]
  },
  {
   "cell_type": "markdown",
   "metadata": {},
   "source": [
    "## Installation\n",
    "```bash\n",
    "pip install skchange\n",
    "```\n",
    "\n",
    "To make full use of the library, you can install the optional Numba dependency. This will speed up the computation of the algorithms in Skchange, often by as much as 10-100 times.\n",
    "\n",
    "```bash\n",
    "pip install skchange[numba]\n",
    "```"
   ]
  },
  {
   "cell_type": "markdown",
   "metadata": {},
   "source": [
    "## Change detection"
   ]
  },
  {
   "cell_type": "markdown",
   "metadata": {},
   "source": [
    "### Detect changes in the mean"
   ]
  },
  {
   "cell_type": "code",
   "execution_count": null,
   "metadata": {},
   "outputs": [],
   "source": [
    "import plotly.io as pio\n",
    "\n",
    "pio.renderers.default = \"notebook\""
   ]
  },
  {
   "cell_type": "code",
   "execution_count": null,
   "metadata": {},
   "outputs": [],
   "source": [
    "from skchange.change_detectors import SeededBinarySegmentation\n",
    "from skchange.change_scores import CUSUM\n",
    "from skchange.datasets import generate_piecewise_normal_data\n",
    "from skchange.utils.plotting import plot_detections\n",
    "\n",
    "x = generate_piecewise_normal_data(\n",
    "    means=[0, 10, 0, -3, 5, 1],\n",
    "    lengths=[30, 5, 15, 50, 60, 40],\n",
    "    seed=0,\n",
    ")\n",
    "detector = SeededBinarySegmentation(\n",
    "    CUSUM(),\n",
    "    penalty=5,\n",
    ")\n",
    "change_points = detector.fit_predict(x)\n",
    "\n",
    "plot_detections(x, change_points).show()\n",
    "print(change_points)"
   ]
  },
  {
   "cell_type": "markdown",
   "metadata": {},
   "source": [
    "### Detect changes in a continuous piecewise linear trend"
   ]
  },
  {
   "cell_type": "code",
   "execution_count": null,
   "metadata": {},
   "outputs": [],
   "source": [
    "from skchange.change_scores import ContinuousLinearTrendScore\n",
    "from skchange.datasets import generate_continuous_piecewise_linear_data\n",
    "\n",
    "x = generate_continuous_piecewise_linear_data(\n",
    "    slopes=[0, 1, -0.5, 0.5, 0.1],\n",
    "    lengths=[30, 20, 50, 60, 40],\n",
    "    seed=1,\n",
    ")\n",
    "detector = SeededBinarySegmentation(\n",
    "    ContinuousLinearTrendScore(),\n",
    "    penalty=20,\n",
    "    selection_method=\"narrowest\",\n",
    ")\n",
    "change_points = detector.fit_predict(x)\n",
    "\n",
    "plot_detections(x, change_points).show()\n",
    "print(change_points)"
   ]
  },
  {
   "cell_type": "markdown",
   "metadata": {},
   "source": [
    "### Detect sparse changes in a high-dimensional mean vector"
   ]
  },
  {
   "cell_type": "code",
   "execution_count": null,
   "metadata": {},
   "outputs": [],
   "source": [
    "from skchange.change_detectors import MovingWindow\n",
    "from skchange.change_scores import ESACScore\n",
    "\n",
    "x = generate_piecewise_normal_data(\n",
    "    means=[0, 5, 10],\n",
    "    lengths=50,\n",
    "    n_segments=3,\n",
    "    n_variables=100,\n",
    "    proportion_affected=[1.0, 0.1, 0.01],\n",
    "    randomise_affected_variables=True,\n",
    "    seed=3,\n",
    ")\n",
    "detector = MovingWindow(\n",
    "    ESACScore(),\n",
    "    bandwidth=[10, 20, 30, 40],\n",
    ")\n",
    "change_points = detector.fit_predict(x)\n",
    "\n",
    "plot_detections(x, change_points).show()\n",
    "print(change_points)"
   ]
  },
  {
   "cell_type": "markdown",
   "metadata": {},
   "source": [
    "### Detect changes in a linear regression model"
   ]
  },
  {
   "cell_type": "code",
   "execution_count": null,
   "metadata": {},
   "outputs": [],
   "source": [
    "from skchange.change_detectors import PELT\n",
    "from skchange.costs import LinearRegressionCost\n",
    "from skchange.datasets import generate_piecewise_regression_data\n",
    "from skchange.utils.plotting import plot_scatter_segmentation\n",
    "\n",
    "x, feature_cols, target_cols = generate_piecewise_regression_data(\n",
    "    lengths=50,\n",
    "    n_segments=3,\n",
    "    n_features=1,\n",
    "    n_targets=1,\n",
    "    seed=2,\n",
    ")\n",
    "detector = PELT(\n",
    "    LinearRegressionCost(target_cols[0], feature_cols),\n",
    "    penalty=10,\n",
    ")\n",
    "change_points = detector.fit_predict(x)\n",
    "plot_scatter_segmentation(\n",
    "    x, change_points, x_var=feature_cols[0], y_var=target_cols[0]\n",
    ").show()\n",
    "print(change_points)\n"
   ]
  },
  {
   "cell_type": "markdown",
   "metadata": {},
   "source": [
    "## Segment anomaly detection"
   ]
  },
  {
   "cell_type": "markdown",
   "metadata": {},
   "source": [
    "### Detect segment anomalies in the mean"
   ]
  },
  {
   "cell_type": "code",
   "execution_count": null,
   "metadata": {},
   "outputs": [],
   "source": [
    "from skchange.anomaly_detectors import CAPA\n",
    "from skchange.anomaly_scores import L2Saving\n",
    "\n",
    "x = generate_piecewise_normal_data(\n",
    "    means=[0, 4, 0, 10, 0, -3],\n",
    "    lengths=[100, 30, 50, 5, 50, 40],\n",
    "    seed=5,\n",
    ")\n",
    "detector = CAPA(L2Saving())\n",
    "anomalies = detector.fit_predict(x)\n",
    "plot_detections(x, anomalies).show()\n",
    "print(anomalies)"
   ]
  },
  {
   "cell_type": "markdown",
   "metadata": {},
   "source": [
    "### Detect segment anomalies in multivariate data and identify the anomalous variables"
   ]
  },
  {
   "cell_type": "code",
   "execution_count": null,
   "metadata": {},
   "outputs": [],
   "source": [
    "from skchange.compose.penalised_score import PenalisedScore\n",
    "\n",
    "x = generate_piecewise_normal_data(\n",
    "    means=[0, [8.0, 0.0, 0.0], 0, [2.0, 3.0, 5.0]],\n",
    "    lengths=[100, 20, 130, 50],\n",
    "    seed=1,\n",
    ")\n",
    "\n",
    "score = L2Saving()\n",
    "penalty = [15, 20, 25]  # Different penalty per amount of affected variables\n",
    "penalised_score = PenalisedScore(score, penalty)\n",
    "detector = CAPA(penalised_score, find_affected_components=True)\n",
    "anomalies = detector.fit_predict(x)\n",
    "\n",
    "plot_detections(x, anomalies, \"subplot-line\").show()\n",
    "print(anomalies)"
   ]
  },
  {
   "cell_type": "markdown",
   "metadata": {},
   "source": [
    "### Detect segment anomalies in the covariance matrix"
   ]
  },
  {
   "cell_type": "code",
   "execution_count": null,
   "metadata": {},
   "outputs": [],
   "source": [
    "import numpy as np\n",
    "\n",
    "from skchange.anomaly_detectors import CAPA\n",
    "from skchange.costs import MultivariateGaussianCost\n",
    "\n",
    "baseline_cov = np.array([[1, 0.9], [0.9, 1]])\n",
    "anomalous_cov = np.eye(baseline_cov.shape[0])\n",
    "x = generate_piecewise_normal_data(\n",
    "    means=0,\n",
    "    variances=[baseline_cov, anomalous_cov, baseline_cov],\n",
    "    lengths=[100, 100, 100],\n",
    "    seed=8,\n",
    ")\n",
    "\n",
    "detector = CAPA(\n",
    "    MultivariateGaussianCost((0, baseline_cov)),\n",
    "    min_segment_length=10,\n",
    ")\n",
    "anomalies = detector.fit_predict(x)\n",
    "plot_scatter_segmentation(x, anomalies).show()\n",
    "print(anomalies)"
   ]
  }
 ],
 "metadata": {
  "kernelspec": {
   "display_name": "skchange",
   "language": "python",
   "name": "python3"
  },
  "language_info": {
   "codemirror_mode": {
    "name": "ipython",
    "version": 3
   },
   "file_extension": ".py",
   "mimetype": "text/x-python",
   "name": "python",
   "nbconvert_exporter": "python",
   "pygments_lexer": "ipython3",
   "version": "3.12.10"
  }
 },
 "nbformat": 4,
 "nbformat_minor": 2
}
