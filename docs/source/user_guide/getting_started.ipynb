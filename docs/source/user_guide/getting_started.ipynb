{
 "cells": [
  {
   "cell_type": "markdown",
   "metadata": {},
   "source": [
    "# Getting started"
   ]
  },
  {
   "cell_type": "markdown",
   "metadata": {},
   "source": [
    "This section is here to help you getting started with Skchange. It covers the fundamental concepts of the library in a brief and concise way."
   ]
  },
  {
   "cell_type": "markdown",
   "metadata": {},
   "source": [
    "## Installation\n",
    "```bash\n",
    "pip install skchange\n",
    "```\n",
    "\n",
    "To make full use of the library, you can install the optional Numba dependency. This will speed up the computation of the algorithms in Skchange, often by as much as 10-100 times.\n",
    "\n",
    "```bash\n",
    "pip install skchange[numba]\n",
    "```"
   ]
  },
  {
   "cell_type": "markdown",
   "metadata": {
    "vscode": {
     "languageId": "shellscript"
    }
   },
   "source": [
    "## Change detection\n",
    "\n",
    "### The task\n",
    "\n",
    "Change detection is the task of identifying abrupt changes in the distribution of a time series. The goal is to estimate the time points at which the distribution changes. These points are called change points (or change-points or changepoints).\n",
    "\n",
    "Here is an example of two changes in the mean of a Gaussian time series with unit variance.\n",
    "\n",
    "![](../_static/images/changepoint_illustration.png)\n",
    "\n",
    "Changes may occur in much more complex ways. For example, changes can affect:\n",
    "\n",
    "- Variance.\n",
    "- Shape of the distribution.\n",
    "- Auto-correlation.\n",
    "- Relationships between variables in multivariate time series.\n",
    "- An unknown, small portion of variables in a high-dimensional time series.\n",
    "\n",
    "Skchange supports detecting changes in all of these scenarios, amongst others."
   ]
  },
  {
   "cell_type": "markdown",
   "metadata": {},
   "source": [
    "### Composable change detectors\n",
    "Skchange follows a familiar scikit-learn-type API and is compatible with Sktime."
   ]
  },
  {
   "cell_type": "markdown",
   "metadata": {},
   "source": [
    "Here's an example of a change detector:"
   ]
  },
  {
   "cell_type": "code",
   "execution_count": 14,
   "metadata": {},
   "outputs": [
    {
     "data": {
      "text/html": [
       "<style>#sk-1246eada-1b38-4fb7-9565-c3541de59643 {\n",
       "    /* Definition of color scheme common for light and dark mode */\n",
       "    --sklearn-color-text: black;\n",
       "    --sklearn-color-line: gray;\n",
       "    /* Definition of color scheme for objects */\n",
       "    --sklearn-color-level-0: #fff5e6;\n",
       "    --sklearn-color-level-1: #f6e4d2;\n",
       "    --sklearn-color-level-2: #ffe0b3;\n",
       "    --sklearn-color-level-3: chocolate;\n",
       "\n",
       "    /* Specific color for light theme */\n",
       "    --sklearn-color-text-on-default-background: var(--theme-code-foreground, var(--jp-content-font-color1, black));\n",
       "    --sklearn-color-background: var(--theme-background, var(--jp-layout-color0, white));\n",
       "    --sklearn-color-border-box: var(--theme-code-foreground, var(--jp-content-font-color1, black));\n",
       "    --sklearn-color-icon: #696969;\n",
       "\n",
       "    @media (prefers-color-scheme: dark) {\n",
       "      /* Redefinition of color scheme for dark theme */\n",
       "      --sklearn-color-text-on-default-background: var(--theme-code-foreground, var(--jp-content-font-color1, white));\n",
       "      --sklearn-color-background: var(--theme-background, var(--jp-layout-color0, #111));\n",
       "      --sklearn-color-border-box: var(--theme-code-foreground, var(--jp-content-font-color1, white));\n",
       "      --sklearn-color-icon: #878787;\n",
       "    }\n",
       "  }\n",
       "\n",
       "  #sk-1246eada-1b38-4fb7-9565-c3541de59643 {\n",
       "    color: var(--sklearn-color-text);\n",
       "  }\n",
       "\n",
       "  #sk-1246eada-1b38-4fb7-9565-c3541de59643 pre {\n",
       "    padding: 0;\n",
       "  }\n",
       "\n",
       "  #sk-1246eada-1b38-4fb7-9565-c3541de59643 input.sk-hidden--visually {\n",
       "    border: 0;\n",
       "    clip: rect(1px 1px 1px 1px);\n",
       "    clip: rect(1px, 1px, 1px, 1px);\n",
       "    height: 1px;\n",
       "    margin: -1px;\n",
       "    overflow: hidden;\n",
       "    padding: 0;\n",
       "    position: absolute;\n",
       "    width: 1px;\n",
       "  }\n",
       "\n",
       "  #sk-1246eada-1b38-4fb7-9565-c3541de59643 div.sk-dashed-wrapped {\n",
       "    border: 1px dashed var(--sklearn-color-line);\n",
       "    margin: 0 0.4em 0.5em 0.4em;\n",
       "    box-sizing: border-box;\n",
       "    padding-bottom: 0.4em;\n",
       "    background-color: var(--sklearn-color-background);\n",
       "  }\n",
       "\n",
       "  #sk-1246eada-1b38-4fb7-9565-c3541de59643 div.sk-container {\n",
       "    /* jupyter's `normalize.less` sets `[hidden] { display: none; }`\n",
       "       but bootstrap.min.css set `[hidden] { display: none !important; }`\n",
       "       so we also need the `!important` here to be able to override the\n",
       "       default hidden behavior on the sphinx rendered scikit-learn.org.\n",
       "       See: https://github.com/scikit-learn/scikit-learn/issues/21755 */\n",
       "    display: inline-block !important;\n",
       "    position: relative;\n",
       "  }\n",
       "\n",
       "  #sk-1246eada-1b38-4fb7-9565-c3541de59643 div.sk-text-repr-fallback {\n",
       "    display: none;\n",
       "  }\n",
       "\n",
       "  div.sk-parallel-item,\n",
       "  div.sk-serial,\n",
       "  div.sk-item {\n",
       "    /* draw centered vertical line to link estimators */\n",
       "    background-image: linear-gradient(var(--sklearn-color-text-on-default-background), var(--sklearn-color-text-on-default-background));\n",
       "    background-size: 2px 100%;\n",
       "    background-repeat: no-repeat;\n",
       "    background-position: center center;\n",
       "  }\n",
       "\n",
       "  /* Parallel-specific style estimator block */\n",
       "\n",
       "  #sk-1246eada-1b38-4fb7-9565-c3541de59643 div.sk-parallel-item::after {\n",
       "    content: \"\";\n",
       "    width: 100%;\n",
       "    border-bottom: 2px solid var(--sklearn-color-text-on-default-background);\n",
       "    flex-grow: 1;\n",
       "  }\n",
       "\n",
       "  #sk-1246eada-1b38-4fb7-9565-c3541de59643 div.sk-parallel {\n",
       "    display: flex;\n",
       "    align-items: stretch;\n",
       "    justify-content: center;\n",
       "    background-color: var(--sklearn-color-background);\n",
       "    position: relative;\n",
       "  }\n",
       "\n",
       "  #sk-1246eada-1b38-4fb7-9565-c3541de59643 div.sk-parallel-item {\n",
       "    display: flex;\n",
       "    flex-direction: column;\n",
       "  }\n",
       "\n",
       "  #sk-1246eada-1b38-4fb7-9565-c3541de59643 div.sk-parallel-item:first-child::after {\n",
       "    align-self: flex-end;\n",
       "    width: 50%;\n",
       "  }\n",
       "\n",
       "  #sk-1246eada-1b38-4fb7-9565-c3541de59643 div.sk-parallel-item:last-child::after {\n",
       "    align-self: flex-start;\n",
       "    width: 50%;\n",
       "  }\n",
       "\n",
       "  #sk-1246eada-1b38-4fb7-9565-c3541de59643 div.sk-parallel-item:only-child::after {\n",
       "    width: 0;\n",
       "  }\n",
       "\n",
       "  /* Serial-specific style estimator block */\n",
       "\n",
       "  #sk-1246eada-1b38-4fb7-9565-c3541de59643 div.sk-serial {\n",
       "    display: flex;\n",
       "    flex-direction: column;\n",
       "    align-items: center;\n",
       "    background-color: var(--sklearn-color-background);\n",
       "    padding-right: 1em;\n",
       "    padding-left: 1em;\n",
       "  }\n",
       "\n",
       "\n",
       "  /* Toggleable style: style used for estimator/Pipeline/ColumnTransformer box that is\n",
       "  clickable and can be expanded/collapsed.\n",
       "  - Pipeline and ColumnTransformer use this feature and define the default style\n",
       "  - Estimators will overwrite some part of the style using the `sk-estimator` class\n",
       "  */\n",
       "\n",
       "  /* Pipeline and ColumnTransformer style (default) */\n",
       "\n",
       "  #sk-1246eada-1b38-4fb7-9565-c3541de59643 div.sk-toggleable {\n",
       "    /* Default theme specific background. It is overwritten whether we have a\n",
       "    specific estimator or a Pipeline/ColumnTransformer */\n",
       "    background-color: var(--sklearn-color-background);\n",
       "  }\n",
       "\n",
       "  /* Toggleable label */\n",
       "  #sk-1246eada-1b38-4fb7-9565-c3541de59643 label.sk-toggleable__label {\n",
       "    cursor: pointer;\n",
       "    display: block;\n",
       "    width: 100%;\n",
       "    margin-bottom: 0;\n",
       "    padding: 0.5em;\n",
       "    box-sizing: border-box;\n",
       "    text-align: center;\n",
       "  }\n",
       "\n",
       "  #sk-1246eada-1b38-4fb7-9565-c3541de59643 label.sk-toggleable__label-arrow:before {\n",
       "    /* Arrow on the left of the label */\n",
       "    content: \"▸\";\n",
       "    float: left;\n",
       "    margin-right: 0.25em;\n",
       "    color: var(--sklearn-color-icon);\n",
       "  }\n",
       "\n",
       "  #sk-1246eada-1b38-4fb7-9565-c3541de59643 label.sk-toggleable__label-arrow:hover:before {\n",
       "    color: var(--sklearn-color-text);\n",
       "  }\n",
       "\n",
       "  /* Toggleable content - dropdown */\n",
       "\n",
       "  #sk-1246eada-1b38-4fb7-9565-c3541de59643 div.sk-toggleable__content {\n",
       "    max-height: 0;\n",
       "    max-width: 0;\n",
       "    overflow: hidden;\n",
       "    text-align: left;\n",
       "    background-color: var(--sklearn-color-level-0);\n",
       "  }\n",
       "\n",
       "  #sk-1246eada-1b38-4fb7-9565-c3541de59643 div.sk-toggleable__content pre {\n",
       "    margin: 0.2em;\n",
       "    border-radius: 0.25em;\n",
       "    color: var(--sklearn-color-text);\n",
       "    background-color: var(--sklearn-color-level-0);\n",
       "  }\n",
       "\n",
       "  #sk-1246eada-1b38-4fb7-9565-c3541de59643 input.sk-toggleable__control:checked~div.sk-toggleable__content {\n",
       "    /* Expand drop-down */\n",
       "    max-height: 200px;\n",
       "    max-width: 100%;\n",
       "    overflow: auto;\n",
       "  }\n",
       "\n",
       "  #sk-1246eada-1b38-4fb7-9565-c3541de59643 input.sk-toggleable__control:checked~label.sk-toggleable__label-arrow:before {\n",
       "    content: \"▾\";\n",
       "  }\n",
       "\n",
       "  /* Pipeline/ColumnTransformer-specific style */\n",
       "\n",
       "  #sk-1246eada-1b38-4fb7-9565-c3541de59643 div.sk-label input.sk-toggleable__control:checked~label.sk-toggleable__label {\n",
       "    color: var(--sklearn-color-text);\n",
       "    background-color: var(--sklearn-color-level-2);\n",
       "  }\n",
       "\n",
       "  /* Estimator-specific style */\n",
       "\n",
       "  /* Colorize estimator box */\n",
       "  #sk-1246eada-1b38-4fb7-9565-c3541de59643 div.sk-estimator input.sk-toggleable__control:checked~label.sk-toggleable__label {\n",
       "    /* unfitted */\n",
       "    background-color: var(--sklearn-color-level-2);\n",
       "  }\n",
       "\n",
       "  #sk-1246eada-1b38-4fb7-9565-c3541de59643 div.sk-label label.sk-toggleable__label,\n",
       "  #sk-1246eada-1b38-4fb7-9565-c3541de59643 div.sk-label label {\n",
       "    /* The background is the default theme color */\n",
       "    color: var(--sklearn-color-text-on-default-background);\n",
       "  }\n",
       "\n",
       "  /* On hover, darken the color of the background */\n",
       "  #sk-1246eada-1b38-4fb7-9565-c3541de59643 div.sk-label:hover label.sk-toggleable__label {\n",
       "    color: var(--sklearn-color-text);\n",
       "    background-color: var(--sklearn-color-level-2);\n",
       "  }\n",
       "\n",
       "  /* Estimator label */\n",
       "\n",
       "  #sk-1246eada-1b38-4fb7-9565-c3541de59643 div.sk-label label {\n",
       "    font-family: monospace;\n",
       "    font-weight: bold;\n",
       "    display: inline-block;\n",
       "    line-height: 1.2em;\n",
       "  }\n",
       "\n",
       "  #sk-1246eada-1b38-4fb7-9565-c3541de59643 div.sk-label-container {\n",
       "    text-align: center;\n",
       "  }\n",
       "\n",
       "  /* Estimator-specific */\n",
       "  #sk-1246eada-1b38-4fb7-9565-c3541de59643 div.sk-estimator {\n",
       "    font-family: monospace;\n",
       "    border: 1px dotted var(--sklearn-color-border-box);\n",
       "    border-radius: 0.25em;\n",
       "    box-sizing: border-box;\n",
       "    margin-bottom: 0.5em;\n",
       "    background-color: var(--sklearn-color-level-0);\n",
       "  }\n",
       "\n",
       "  /* on hover */\n",
       "  #sk-1246eada-1b38-4fb7-9565-c3541de59643 div.sk-estimator:hover {\n",
       "    background-color: var(--sklearn-color-level-2);\n",
       "  }\n",
       "\n",
       "  /* Specification for estimator info */\n",
       "\n",
       "  .sk-estimator-doc-link,\n",
       "  a:link.sk-estimator-doc-link,\n",
       "  a:visited.sk-estimator-doc-link {\n",
       "    float: right;\n",
       "    font-size: smaller;\n",
       "    line-height: 1em;\n",
       "    font-family: monospace;\n",
       "    background-color: var(--sklearn-color-background);\n",
       "    border-radius: 1em;\n",
       "    height: 1em;\n",
       "    width: 1em;\n",
       "    text-decoration: none !important;\n",
       "    margin-left: 1ex;\n",
       "    border: var(--sklearn-color-level-1) 1pt solid;\n",
       "    color: var(--sklearn-color-level-1);\n",
       "  }\n",
       "\n",
       "  /* On hover */\n",
       "  div.sk-estimator:hover .sk-estimator-doc-link:hover,\n",
       "  .sk-estimator-doc-link:hover,\n",
       "  div.sk-label-container:hover .sk-estimator-doc-link:hover,\n",
       "  .sk-estimator-doc-link:hover {\n",
       "    background-color: var(--sklearn-color-level-3);\n",
       "    color: var(--sklearn-color-background);\n",
       "    text-decoration: none;\n",
       "  }\n",
       "\n",
       "  /* Span, style for the box shown on hovering the info icon */\n",
       "  .sk-estimator-doc-link span {\n",
       "    display: none;\n",
       "    z-index: 9999;\n",
       "    position: relative;\n",
       "    font-weight: normal;\n",
       "    right: .2ex;\n",
       "    padding: .5ex;\n",
       "    margin: .5ex;\n",
       "    width: min-content;\n",
       "    min-width: 20ex;\n",
       "    max-width: 50ex;\n",
       "    color: var(--sklearn-color-text);\n",
       "    box-shadow: 2pt 2pt 4pt #999;\n",
       "    background: var(--sklearn-color-level-0);\n",
       "    border: .5pt solid var(--sklearn-color-level-3);\n",
       "  }\n",
       "\n",
       "  .sk-estimator-doc-link:hover span {\n",
       "    display: block;\n",
       "  }\n",
       "\n",
       "  /* \"?\"-specific style due to the `<a>` HTML tag */\n",
       "\n",
       "  #sk-1246eada-1b38-4fb7-9565-c3541de59643 a.estimator_doc_link {\n",
       "    float: right;\n",
       "    font-size: 1rem;\n",
       "    line-height: 1em;\n",
       "    font-family: monospace;\n",
       "    background-color: var(--sklearn-color-background);\n",
       "    border-radius: 1rem;\n",
       "    height: 1rem;\n",
       "    width: 1rem;\n",
       "    text-decoration: none;\n",
       "    color: var(--sklearn-color-level-1);\n",
       "    border: var(--sklearn-color-level-1) 1pt solid;\n",
       "  }\n",
       "\n",
       "  /* On hover */\n",
       "  #sk-1246eada-1b38-4fb7-9565-c3541de59643 a.estimator_doc_link:hover {\n",
       "    background-color: var(--sklearn-color-level-3);\n",
       "    color: var(--sklearn-color-background);\n",
       "    text-decoration: none;\n",
       "  }\n",
       "</style><div id='sk-1246eada-1b38-4fb7-9565-c3541de59643' class=\"sk-top-container\"><div class=\"sk-text-repr-fallback\"><pre>MovingWindow(change_score=CUSUM(), penalty=10)</pre><b>Please rerun this cell to show the HTML repr or trust the notebook.</b></div><div class=\"sk-container\" hidden><div class=\"sk-item sk-dashed-wrapped\"><div class='sk-label-container'><div class=\"sk-label sk-toggleable\"><input class=\"sk-toggleable__control sk-hidden--visually\" id=UUID('4eb024bd-95fc-44d1-b70f-b851ed0652d9') type=\"checkbox\" ><label for=UUID('4eb024bd-95fc-44d1-b70f-b851ed0652d9') class='sk-toggleable__label sk-toggleable__label-arrow'>MovingWindow</label><div class=\"sk-toggleable__content\"><pre>MovingWindow(change_score=CUSUM(), penalty=10)</pre></div></div></div><div class=\"sk-parallel\"><div class=\"sk-parallel-item\"><div class=\"sk-item\"><div class='sk-label-container'><div class=\"sk-label sk-toggleable\"><input class=\"sk-toggleable__control sk-hidden--visually\" id=UUID('6db7ecd6-7f17-4694-9a80-3c27b49439c3') type=\"checkbox\" ><label for=UUID('6db7ecd6-7f17-4694-9a80-3c27b49439c3') class='sk-toggleable__label sk-toggleable__label-arrow'>change_score: CUSUM</label><div class=\"sk-toggleable__content\"><pre>CUSUM()</pre></div></div></div><div class=\"sk-serial\"><div class='sk-item'><div class=\"sk-estimator sk-toggleable\"><input class=\"sk-toggleable__control sk-hidden--visually\" id=UUID('f60210fe-6fee-4bd0-b380-b9cac1c4b8dc') type=\"checkbox\" ><label for=UUID('f60210fe-6fee-4bd0-b380-b9cac1c4b8dc') class='sk-toggleable__label sk-toggleable__label-arrow'>CUSUM</label><div class=\"sk-toggleable__content\"><pre>CUSUM()</pre></div></div></div></div></div></div></div></div></div></div>"
      ],
      "text/plain": [
       "MovingWindow(change_score=CUSUM(), penalty=10)"
      ]
     },
     "execution_count": 14,
     "metadata": {},
     "output_type": "execute_result"
    }
   ],
   "source": [
    "from skchange.change_detectors import MovingWindow\n",
    "from skchange.change_scores import CUSUM\n",
    "\n",
    "detector = MovingWindow(\n",
    "    change_score=CUSUM(),\n",
    "    penalty=10,\n",
    ")\n",
    "detector"
   ]
  },
  {
   "cell_type": "markdown",
   "metadata": {},
   "source": [
    "\n",
    "Let us look at each each part of the detector in more detail:\n",
    "\n",
    "1. `change_score`: Represents the choice of feature to detect changes in. `CUSUM` is a popular choice for detecting changes in the mean of a time series.\n",
    "2. `penalty`: Used to control the complexity of the change point model. The higher the penalty, the fewer change points will be detected.\n",
    "3. `detector`: The search algorithm for detecting change points. It governs which data intervals the change score is evaluated on and how the results are compiled to a final set of detected change points.\n",
    "\n",
    "In Skchange, all detectors follow the same pattern. They are composed of some kind of score to be evaluated on data intervals, and a penalty. You can read more about the core components of Skchange in the [Concepts](./concepts/index.rst) section."
   ]
  },
  {
   "cell_type": "markdown",
   "metadata": {},
   "source": [
    "### `fit`\n",
    "After initialising your detector of choice, you need to fit it to training data before you can use it to detect change points.\n",
    "\n",
    "Here are some 3-dimensional Gaussian toy data with four segments with different means vectors."
   ]
  },
  {
   "cell_type": "code",
   "execution_count": 2,
   "metadata": {},
   "outputs": [
    {
     "data": {
      "text/html": [
       "<div>\n",
       "<style scoped>\n",
       "    .dataframe tbody tr th:only-of-type {\n",
       "        vertical-align: middle;\n",
       "    }\n",
       "\n",
       "    .dataframe tbody tr th {\n",
       "        vertical-align: top;\n",
       "    }\n",
       "\n",
       "    .dataframe thead th {\n",
       "        text-align: right;\n",
       "    }\n",
       "</style>\n",
       "<table border=\"1\" class=\"dataframe\">\n",
       "  <thead>\n",
       "    <tr style=\"text-align: right;\">\n",
       "      <th></th>\n",
       "      <th>var0</th>\n",
       "      <th>var1</th>\n",
       "      <th>var2</th>\n",
       "    </tr>\n",
       "    <tr>\n",
       "      <th>time</th>\n",
       "      <th></th>\n",
       "      <th></th>\n",
       "      <th></th>\n",
       "    </tr>\n",
       "  </thead>\n",
       "  <tbody>\n",
       "    <tr>\n",
       "      <th>0</th>\n",
       "      <td>0.091205</td>\n",
       "      <td>1.091283</td>\n",
       "      <td>-1.946970</td>\n",
       "    </tr>\n",
       "    <tr>\n",
       "      <th>1</th>\n",
       "      <td>-1.386350</td>\n",
       "      <td>-2.296492</td>\n",
       "      <td>2.409834</td>\n",
       "    </tr>\n",
       "    <tr>\n",
       "      <th>2</th>\n",
       "      <td>1.727836</td>\n",
       "      <td>2.204556</td>\n",
       "      <td>0.794828</td>\n",
       "    </tr>\n",
       "    <tr>\n",
       "      <th>3</th>\n",
       "      <td>0.976421</td>\n",
       "      <td>-1.183427</td>\n",
       "      <td>1.916364</td>\n",
       "    </tr>\n",
       "    <tr>\n",
       "      <th>4</th>\n",
       "      <td>-1.123327</td>\n",
       "      <td>-0.664035</td>\n",
       "      <td>-0.378359</td>\n",
       "    </tr>\n",
       "    <tr>\n",
       "      <th>...</th>\n",
       "      <td>...</td>\n",
       "      <td>...</td>\n",
       "      <td>...</td>\n",
       "    </tr>\n",
       "    <tr>\n",
       "      <th>295</th>\n",
       "      <td>0.325434</td>\n",
       "      <td>2.015049</td>\n",
       "      <td>4.939516</td>\n",
       "    </tr>\n",
       "    <tr>\n",
       "      <th>296</th>\n",
       "      <td>3.485036</td>\n",
       "      <td>3.118221</td>\n",
       "      <td>6.393023</td>\n",
       "    </tr>\n",
       "    <tr>\n",
       "      <th>297</th>\n",
       "      <td>2.517864</td>\n",
       "      <td>3.445919</td>\n",
       "      <td>3.264219</td>\n",
       "    </tr>\n",
       "    <tr>\n",
       "      <th>298</th>\n",
       "      <td>2.290727</td>\n",
       "      <td>2.758822</td>\n",
       "      <td>4.492490</td>\n",
       "    </tr>\n",
       "    <tr>\n",
       "      <th>299</th>\n",
       "      <td>1.230467</td>\n",
       "      <td>1.715009</td>\n",
       "      <td>4.918493</td>\n",
       "    </tr>\n",
       "  </tbody>\n",
       "</table>\n",
       "<p>300 rows × 3 columns</p>\n",
       "</div>"
      ],
      "text/plain": [
       "          var0      var1      var2\n",
       "time                              \n",
       "0     0.091205  1.091283 -1.946970\n",
       "1    -1.386350 -2.296492  2.409834\n",
       "2     1.727836  2.204556  0.794828\n",
       "3     0.976421 -1.183427  1.916364\n",
       "4    -1.123327 -0.664035 -0.378359\n",
       "...        ...       ...       ...\n",
       "295   0.325434  2.015049  4.939516\n",
       "296   3.485036  3.118221  6.393023\n",
       "297   2.517864  3.445919  3.264219\n",
       "298   2.290727  2.758822  4.492490\n",
       "299   1.230467  1.715009  4.918493\n",
       "\n",
       "[300 rows x 3 columns]"
      ]
     },
     "execution_count": 2,
     "metadata": {},
     "output_type": "execute_result"
    }
   ],
   "source": [
    "import numpy as np\n",
    "\n",
    "from skchange.datasets import generate_changing_data\n",
    "\n",
    "n = 300\n",
    "cpts = [100, 140, 220]\n",
    "means = [\n",
    "    np.array([0.0, 0.0, 0.0]),\n",
    "    np.array([8.0, 0.0, 0.0]),\n",
    "    np.array([0.0, 0.0, 0.0]),\n",
    "    np.array([2.0, 3.0, 5.0]),\n",
    "]\n",
    "x = generate_changing_data(n, changepoints=cpts, means=means, random_state=8)\n",
    "x.columns = [\"var0\", \"var1\", \"var2\"]\n",
    "x.index.name = \"time\"\n",
    "x"
   ]
  },
  {
   "cell_type": "markdown",
   "metadata": {},
   "source": [
    "Here is what the data looks like:"
   ]
  },
  {
   "cell_type": "code",
   "execution_count": 3,
   "metadata": {},
   "outputs": [
    {
     "data": {
      "application/vnd.plotly.v1+json": {
       "config": {
        "plotlyServerURL": "https://plot.ly"
       },
       "data": [
        {
         "hovertemplate": "variable=var0<br>time=%{x}<br>value=%{y}<extra></extra>",
         "legendgroup": "var0",
         "line": {
          "color": "#636efa",
          "dash": "solid"
         },
         "marker": {
          "symbol": "circle"
         },
         "mode": "lines",
         "name": "var0",
         "orientation": "v",
         "showlegend": true,
         "type": "scatter",
         "x": [
          0,
          1,
          2,
          3,
          4,
          5,
          6,
          7,
          8,
          9,
          10,
          11,
          12,
          13,
          14,
          15,
          16,
          17,
          18,
          19,
          20,
          21,
          22,
          23,
          24,
          25,
          26,
          27,
          28,
          29,
          30,
          31,
          32,
          33,
          34,
          35,
          36,
          37,
          38,
          39,
          40,
          41,
          42,
          43,
          44,
          45,
          46,
          47,
          48,
          49,
          50,
          51,
          52,
          53,
          54,
          55,
          56,
          57,
          58,
          59,
          60,
          61,
          62,
          63,
          64,
          65,
          66,
          67,
          68,
          69,
          70,
          71,
          72,
          73,
          74,
          75,
          76,
          77,
          78,
          79,
          80,
          81,
          82,
          83,
          84,
          85,
          86,
          87,
          88,
          89,
          90,
          91,
          92,
          93,
          94,
          95,
          96,
          97,
          98,
          99,
          100,
          101,
          102,
          103,
          104,
          105,
          106,
          107,
          108,
          109,
          110,
          111,
          112,
          113,
          114,
          115,
          116,
          117,
          118,
          119,
          120,
          121,
          122,
          123,
          124,
          125,
          126,
          127,
          128,
          129,
          130,
          131,
          132,
          133,
          134,
          135,
          136,
          137,
          138,
          139,
          140,
          141,
          142,
          143,
          144,
          145,
          146,
          147,
          148,
          149,
          150,
          151,
          152,
          153,
          154,
          155,
          156,
          157,
          158,
          159,
          160,
          161,
          162,
          163,
          164,
          165,
          166,
          167,
          168,
          169,
          170,
          171,
          172,
          173,
          174,
          175,
          176,
          177,
          178,
          179,
          180,
          181,
          182,
          183,
          184,
          185,
          186,
          187,
          188,
          189,
          190,
          191,
          192,
          193,
          194,
          195,
          196,
          197,
          198,
          199,
          200,
          201,
          202,
          203,
          204,
          205,
          206,
          207,
          208,
          209,
          210,
          211,
          212,
          213,
          214,
          215,
          216,
          217,
          218,
          219,
          220,
          221,
          222,
          223,
          224,
          225,
          226,
          227,
          228,
          229,
          230,
          231,
          232,
          233,
          234,
          235,
          236,
          237,
          238,
          239,
          240,
          241,
          242,
          243,
          244,
          245,
          246,
          247,
          248,
          249,
          250,
          251,
          252,
          253,
          254,
          255,
          256,
          257,
          258,
          259,
          260,
          261,
          262,
          263,
          264,
          265,
          266,
          267,
          268,
          269,
          270,
          271,
          272,
          273,
          274,
          275,
          276,
          277,
          278,
          279,
          280,
          281,
          282,
          283,
          284,
          285,
          286,
          287,
          288,
          289,
          290,
          291,
          292,
          293,
          294,
          295,
          296,
          297,
          298,
          299
         ],
         "xaxis": "x",
         "y": [
          0.09120471661981977,
          -1.3863495322369392,
          1.7278361685799193,
          0.9764210964009404,
          -1.1233268005511385,
          -0.7916152714963363,
          -0.06566102810479214,
          -0.6069527973571234,
          -1.645990104823762,
          1.1661404863737168,
          1.4425241316834048,
          0.18192958803010384,
          0.47451841788495114,
          -0.4085609591074963,
          0.14369101800794742,
          0.5508500563063257,
          -3.1349197676206337,
          -1.7791130361437686,
          1.5539671989279047,
          -1.6432509288791548,
          0.09617156862299882,
          0.7983600410180657,
          -0.22647804664155174,
          -0.1468565871774468,
          0.10959471235353271,
          -1.1512656159034664,
          -0.6108930224843532,
          -0.952160595295607,
          0.33502322763885556,
          -1.200813479418688,
          0.4962278660942041,
          -0.4360720647943704,
          0.08444546678658923,
          -0.18621334754148572,
          -0.07224211882886701,
          1.0526111139305225,
          1.3413740703427022,
          0.4050411730492643,
          -0.577799163359741,
          -0.722689421250031,
          -2.3952131403503802,
          0.22378561881529643,
          -0.18133810034232,
          0.4242415161056242,
          -1.4392090764642766,
          1.1368700712905058,
          -0.31845484811205743,
          0.2554583261643237,
          -0.5105634640274762,
          -0.522880869067551,
          0.0997457992594885,
          -1.3053691164054904,
          -0.060749349235527585,
          0.47264137935909867,
          0.7345735390650363,
          0.6576605158565312,
          0.5930527260774431,
          0.9197907696700851,
          1.2571989091479971,
          2.065936279160313,
          -1.9690559239484888,
          -0.38118939122105383,
          0.8196828952627496,
          0.00963121646291094,
          1.934942744280661,
          1.513228046464776,
          -1.2745884241750758,
          -0.07404306326790888,
          -0.320259010680154,
          -2.508171476198107,
          1.353585936113794,
          0.5750357298214074,
          0.7594106361890071,
          -0.09078295806648295,
          -0.6527204935473387,
          -0.6489494401795751,
          -0.8392457180964835,
          -0.9957165684186731,
          -0.8845672581354063,
          -0.9080430277498462,
          -1.1217733302743982,
          -0.241501774105201,
          -1.3601273923825339,
          -0.1143726217428763,
          -1.9429007158794327,
          -1.0442243626678456,
          -0.5091707699627447,
          -0.9635963643167011,
          -0.9633988440329625,
          1.6123904345550486,
          0.1434412400750687,
          -0.06731004567681949,
          1.2086911071200945,
          0.6621772763078367,
          0.8448242466986953,
          -0.5321601508296682,
          -2.0786094738796366,
          0.6982101777348612,
          -0.4943598371710648,
          0.0741074323712963,
          8.255014556670144,
          9.065936390047415,
          6.191615138465033,
          7.855196432515352,
          6.735729372439069,
          7.967305721924738,
          8.71655668482992,
          9.08580490787517,
          8.501901955870613,
          8.070151496076651,
          6.5060516775764,
          8.648216784145935,
          7.926650639848145,
          7.487397374917161,
          6.85618670879283,
          8.151227173151687,
          8.763259516854122,
          9.427116826749089,
          7.751510300383287,
          7.94840666456755,
          8.56581700297528,
          7.627292505508599,
          7.222160497976394,
          6.16271819294072,
          8.463360776407844,
          10.222601268523626,
          8.720458903421429,
          8.946155671941067,
          7.134878139482914,
          8.00805617537854,
          8.360993722207095,
          8.770305017002594,
          7.955235752665049,
          8.710281606469929,
          8.27478788250195,
          8.293127969296663,
          6.206219058388449,
          9.268105267657502,
          9.16705433756002,
          7.425695302602685,
          0.8250555815730921,
          -0.5066737294360595,
          1.933141719481295,
          -0.6569695170484013,
          -0.007840078904301155,
          -2.851524086232327,
          0.5707630204181017,
          2.3064346328778424,
          -0.5323999424184579,
          1.4848802300559945,
          0.085423024313632,
          0.8879427867783085,
          0.38126736887790297,
          -0.2919967626147749,
          -0.13715412453382766,
          -1.064574026757731,
          0.6106646641719798,
          -0.3549145163255552,
          0.26634422799593893,
          1.292094900155682,
          -0.3239775182196412,
          0.5888722529864637,
          0.8131685936253009,
          -1.1936613763882977,
          1.3442161678999176,
          -1.6543433214466803,
          -0.10368295983302973,
          -0.1474456985050614,
          -0.4181374639536708,
          -1.3554446709504362,
          0.2182085118305722,
          1.6465693544702371,
          0.9179683488110802,
          0.7788384917190397,
          1.188637602695495,
          1.1700561484150995,
          -1.0496290871550922,
          -1.2459744093932872,
          0.5843352957747421,
          -0.9608765477887854,
          0.9360618353507447,
          0.5330479984621679,
          1.9253077465106623,
          -0.011287444774288478,
          -3.5594596645008263,
          0.466826974495133,
          -1.0223009450816904,
          0.774104663425893,
          0.8932779269699699,
          -1.6021644277011444,
          0.9119857893484767,
          0.5160933063054015,
          1.6836305878750966,
          0.017382693583539856,
          -0.24350377797862124,
          0.2686106915552124,
          0.7798203611269864,
          -0.9400121775281419,
          -0.9330605693194325,
          -1.0832437396638972,
          -1.2108557108417595,
          -0.9127202154851665,
          0.3426563049905484,
          -0.984396512707466,
          2.8109548499972177,
          0.8970538683532395,
          0.47297838626292205,
          0.06245488360403492,
          1.8311401161573257,
          0.7519096955432155,
          -0.3844587754159564,
          -1.2761905957214494,
          1.0077522129973053,
          -0.7377091340001163,
          2.023493347955002,
          1.4483579229094756,
          0.8493419631751773,
          -1.0002833930690742,
          0.20678618548986216,
          -0.08125559410194648,
          3.195026287233757,
          1.671230622210825,
          2.089913329685163,
          0.6529093838190403,
          2.2857219000390567,
          1.3388054737738921,
          2.8597891863745737,
          4.90092887258945,
          2.170859008257983,
          1.5805828147747847,
          1.8803420677699452,
          2.9620940709481944,
          1.8639644447247834,
          2.224522844841056,
          3.1685810349493186,
          3.1136836231023963,
          1.8340919852793702,
          2.2319466004812516,
          3.091749793592821,
          1.3746853131078638,
          2.2927527976049396,
          1.8466284920501475,
          4.2138741031884335,
          2.2770588268125818,
          2.063697056183569,
          3.252510099546487,
          3.1839769618669482,
          2.3302345892550185,
          3.3458041750289507,
          1.6659819882746043,
          3.039891402234444,
          3.8927410846531476,
          1.4091134021722231,
          2.9516270517939853,
          2.422057886282327,
          1.4926033931302207,
          1.877314231624849,
          1.8860121070054792,
          2.2854688428092422,
          0.8535693711873555,
          2.8711670822198676,
          1.7622692231518147,
          2.4970955120644898,
          3.120144522759543,
          1.901853121498745,
          1.84216419110286,
          1.8863497452718094,
          2.2377284053171347,
          3.3501702148774477,
          2.876844187408448,
          1.9684641051547027,
          1.3311003579263765,
          2.3136519953057832,
          2.33014408685273,
          0.7054228823008735,
          1.799476723325486,
          2.6616877700333506,
          2.4120869718908935,
          0.33313242129352916,
          1.5118279023026524,
          2.5469958325584403,
          2.820492487635015,
          2.0871431419393924,
          2.5410653852836695,
          5.0604676963515,
          0.8062839424062613,
          0.22861354374530563,
          2.500086728846866,
          1.5658443493272753,
          1.9768384860278927,
          1.5518786262469564,
          1.668374895977468,
          3.4049807548077444,
          2.6661524211330865,
          1.809167082077661,
          0.32543410882617785,
          3.485036017793502,
          2.51786381241024,
          2.2907271003254266,
          1.2304669108282307
         ],
         "yaxis": "y"
        },
        {
         "hovertemplate": "variable=var1<br>time=%{x}<br>value=%{y}<extra></extra>",
         "legendgroup": "var1",
         "line": {
          "color": "#EF553B",
          "dash": "solid"
         },
         "marker": {
          "symbol": "circle"
         },
         "mode": "lines",
         "name": "var1",
         "orientation": "v",
         "showlegend": true,
         "type": "scatter",
         "x": [
          0,
          1,
          2,
          3,
          4,
          5,
          6,
          7,
          8,
          9,
          10,
          11,
          12,
          13,
          14,
          15,
          16,
          17,
          18,
          19,
          20,
          21,
          22,
          23,
          24,
          25,
          26,
          27,
          28,
          29,
          30,
          31,
          32,
          33,
          34,
          35,
          36,
          37,
          38,
          39,
          40,
          41,
          42,
          43,
          44,
          45,
          46,
          47,
          48,
          49,
          50,
          51,
          52,
          53,
          54,
          55,
          56,
          57,
          58,
          59,
          60,
          61,
          62,
          63,
          64,
          65,
          66,
          67,
          68,
          69,
          70,
          71,
          72,
          73,
          74,
          75,
          76,
          77,
          78,
          79,
          80,
          81,
          82,
          83,
          84,
          85,
          86,
          87,
          88,
          89,
          90,
          91,
          92,
          93,
          94,
          95,
          96,
          97,
          98,
          99,
          100,
          101,
          102,
          103,
          104,
          105,
          106,
          107,
          108,
          109,
          110,
          111,
          112,
          113,
          114,
          115,
          116,
          117,
          118,
          119,
          120,
          121,
          122,
          123,
          124,
          125,
          126,
          127,
          128,
          129,
          130,
          131,
          132,
          133,
          134,
          135,
          136,
          137,
          138,
          139,
          140,
          141,
          142,
          143,
          144,
          145,
          146,
          147,
          148,
          149,
          150,
          151,
          152,
          153,
          154,
          155,
          156,
          157,
          158,
          159,
          160,
          161,
          162,
          163,
          164,
          165,
          166,
          167,
          168,
          169,
          170,
          171,
          172,
          173,
          174,
          175,
          176,
          177,
          178,
          179,
          180,
          181,
          182,
          183,
          184,
          185,
          186,
          187,
          188,
          189,
          190,
          191,
          192,
          193,
          194,
          195,
          196,
          197,
          198,
          199,
          200,
          201,
          202,
          203,
          204,
          205,
          206,
          207,
          208,
          209,
          210,
          211,
          212,
          213,
          214,
          215,
          216,
          217,
          218,
          219,
          220,
          221,
          222,
          223,
          224,
          225,
          226,
          227,
          228,
          229,
          230,
          231,
          232,
          233,
          234,
          235,
          236,
          237,
          238,
          239,
          240,
          241,
          242,
          243,
          244,
          245,
          246,
          247,
          248,
          249,
          250,
          251,
          252,
          253,
          254,
          255,
          256,
          257,
          258,
          259,
          260,
          261,
          262,
          263,
          264,
          265,
          266,
          267,
          268,
          269,
          270,
          271,
          272,
          273,
          274,
          275,
          276,
          277,
          278,
          279,
          280,
          281,
          282,
          283,
          284,
          285,
          286,
          287,
          288,
          289,
          290,
          291,
          292,
          293,
          294,
          295,
          296,
          297,
          298,
          299
         ],
         "xaxis": "x",
         "y": [
          1.0912827332721105,
          -2.2964915742021637,
          2.204556284556135,
          -1.183427147333015,
          -0.6640354695841054,
          0.8595481091803732,
          -0.20863623473215612,
          -0.17424821364463233,
          -0.48354094996529023,
          0.16168310874508016,
          -0.22148061093182422,
          -0.06292872986579556,
          -1.1645911721234772,
          -0.9343483571694606,
          0.07554944133565847,
          1.7020299556707454,
          1.1395335002938887,
          0.12776289729250412,
          0.6969657514275859,
          0.3306588682379323,
          1.8768154202806484,
          -0.30607449971395173,
          -1.8857445426630663,
          0.11564919769931886,
          0.2154790719568877,
          1.5247534767367374,
          0.9302460334008512,
          0.1519277862548973,
          0.3747993879432671,
          0.0013811611555498982,
          -1.3316666688397332,
          2.5450872174205648,
          2.4862477950987865,
          0.8538628571904616,
          -0.46884766741389616,
          -1.3096332248062308,
          2.531356843422723,
          1.6323005285299208,
          1.2421757604068902,
          -0.5715496445016512,
          1.1540164759053553,
          -0.20161551130427507,
          -1.7498152613009488,
          -0.3888016144986927,
          0.9489273111212446,
          0.4845256644300696,
          0.15812609849274045,
          1.4260580008514914,
          -0.1715671433358908,
          0.07399013300878321,
          -0.04638016634828154,
          -0.5762990016503239,
          -2.434482426597176,
          -0.8851684095742945,
          2.6429429245421874,
          0.0460459805649276,
          -0.9334435787668555,
          -0.7141375176934018,
          0.9761035267318021,
          1.031906554860006,
          -0.32696831853292724,
          0.02482504315071417,
          1.3464947784458172,
          1.3314333740038884,
          -1.274892266814245,
          -2.184230320302747,
          -1.1729437148687412,
          0.5428311417216014,
          -1.1945527388582564,
          0.6221540986532825,
          1.391508364102874,
          -0.8150903067324661,
          0.4425044599984008,
          0.17704034527665172,
          0.5917545512172624,
          0.7356188689406675,
          0.2827596799237348,
          -1.534236297780934,
          -0.3675566146929216,
          -0.06276836474685185,
          0.9599431666634867,
          0.12849965164634194,
          -1.1373733019854777,
          0.5374070463168117,
          0.9787417953668639,
          0.45550801023278337,
          -0.777813318354202,
          -0.1434450471005839,
          -0.35027671543335953,
          -1.3678744997216605,
          -0.3426440325458338,
          -0.5008200073511717,
          -0.9073398971486566,
          -0.08840836890141596,
          0.6130327309109463,
          1.7238390741734158,
          -0.32270309443975054,
          -0.410672764024447,
          0.18815490478007038,
          -2.414503457184927,
          -0.6844287613020531,
          -0.5372710424101711,
          -0.1896627268460729,
          -2.686120780593897,
          -0.4018357771793472,
          0.9876459560601275,
          0.14256447182783694,
          -1.2950144047002858,
          0.1703162172315026,
          -0.05312210195663092,
          1.5026929730808933,
          -0.8126966923770309,
          -0.2260851683309079,
          2.485471714080105,
          -0.05863584145230831,
          -0.9752521851419036,
          1.4768799298137443,
          -0.75278760995495,
          -1.2566264986492293,
          0.7413041436277132,
          -0.9905202805096033,
          0.10276297649184664,
          2.5808851156214936,
          -0.448482987551772,
          -0.87519845861804,
          -1.4403251677821114,
          1.219479095167568,
          -1.1141188715149979,
          -1.9859309798753804,
          -0.9839308145497955,
          -0.4730220488010702,
          0.5626867995917519,
          -0.6924530440757718,
          0.9692311145971648,
          -0.7872250262815556,
          -0.2708984674925101,
          -1.0048018818935502,
          -0.5927251998809306,
          -0.6962559841723275,
          2.0947484257330236,
          -0.6818717162843422,
          1.2677694919748337,
          0.18341040267590697,
          0.26972174697991774,
          0.39456524751360705,
          0.7418370797032515,
          -1.4432590686654712,
          1.6563681825144896,
          0.9508789278887815,
          -0.5925406746491749,
          -0.6325665484083519,
          -0.049609513241419795,
          0.5896923587590667,
          -0.7703934364411276,
          0.8726026485804294,
          0.19781453629676718,
          1.2173877995305389,
          0.04533777566617775,
          0.11113031992774222,
          -1.7515351177825904,
          1.8838186305598226,
          0.23617459558873738,
          -0.3470026994434214,
          1.3619443633864068,
          0.13780228697573332,
          0.4149833720878796,
          -0.3722166835128014,
          -0.029109084464099915,
          -0.6319992404176603,
          -0.17133332154795117,
          -1.116406286397304,
          -1.6537629112492278,
          -0.5450336396288648,
          1.2032115042046583,
          1.1965390980939514,
          1.4185688884711378,
          2.0805368640205115,
          1.1017865127191862,
          0.5472669118584469,
          0.1448361288553074,
          -0.02611762527264171,
          -0.8717674174257137,
          1.8463436330665004,
          0.8883012722581265,
          -1.270719282500657,
          0.49073510138452725,
          -0.633526154140684,
          -1.6229705088946789,
          -0.2812321257066878,
          0.5847427289915956,
          0.6269081783131588,
          0.608219577243381,
          0.0736366659382348,
          -0.9566652891409378,
          1.0780486825028672,
          0.7608449872353468,
          -1.0879005593981406,
          -1.3033127762086316,
          -1.6638718463495412,
          0.05552462427392437,
          0.12561847914862506,
          0.18891340283725103,
          1.4217021382841846,
          1.5675353754371744,
          0.45469239999928807,
          0.11488714196378753,
          0.799357754273869,
          0.07355154599952964,
          1.2041588893782256,
          0.10311652414288673,
          -0.4447020962039622,
          -0.1727224057980247,
          1.290655403190533,
          -1.7107957458017828,
          1.4558954738129404,
          0.7422053538561125,
          -1.2410862026784166,
          -1.753015746445908,
          0.21732272719686216,
          -1.031056818734273,
          3.6713624431059557,
          3.757415046543941,
          3.377350114891992,
          4.637030240981316,
          2.6278009950464094,
          2.414957722139382,
          3.8818403736994753,
          2.8588334854329074,
          3.6219526451254485,
          1.7287247860671653,
          3.8471600467789484,
          2.9514610733119713,
          3.710145104377299,
          5.34649751448257,
          3.3238499171527467,
          2.0760812949214316,
          4.224976092909269,
          2.984132489260611,
          1.7765446106444758,
          3.9151316301661616,
          3.641780844270759,
          2.6261760018707347,
          2.940761660600716,
          2.6756553113989034,
          3.5066896662020177,
          1.410569260129712,
          3.236904332939294,
          2.2326223523204938,
          4.7722930694840695,
          2.5398781254140332,
          1.428926352611694,
          1.0120674919574775,
          2.7870488462715506,
          3.6925265833589824,
          5.093523535060395,
          0.8384221673482872,
          1.32656243497345,
          2.5543037740524523,
          2.377286794174199,
          3.11070889386142,
          2.517336315427378,
          2.3769014467571794,
          3.2662897348328332,
          2.6672025143105134,
          3.7566237468948773,
          3.8750291267371453,
          2.4015235068722722,
          1.445558450524182,
          4.656875041934139,
          2.4657975915890193,
          5.021509341181941,
          4.344995123696004,
          2.1800182495929707,
          1.9663315383934428,
          2.0466831207732192,
          1.9123419103270425,
          3.524030618041883,
          4.292855807742982,
          2.4179148678957167,
          3.78723145454949,
          4.7721666917053644,
          1.6625776234889937,
          2.3881314457154534,
          3.862260938927349,
          1.5423813033425267,
          2.60070957168127,
          3.1177767671434737,
          3.3471377632338397,
          3.326554125935694,
          2.736490151901958,
          1.5716964495955097,
          1.6519347347947895,
          2.4099622275796397,
          2.82403968328119,
          4.397435093847849,
          2.015048605445757,
          3.1182209108179455,
          3.445919267642157,
          2.7588218746636706,
          1.7150087272521368
         ],
         "yaxis": "y"
        },
        {
         "hovertemplate": "variable=var2<br>time=%{x}<br>value=%{y}<extra></extra>",
         "legendgroup": "var2",
         "line": {
          "color": "#00cc96",
          "dash": "solid"
         },
         "marker": {
          "symbol": "circle"
         },
         "mode": "lines",
         "name": "var2",
         "orientation": "v",
         "showlegend": true,
         "type": "scatter",
         "x": [
          0,
          1,
          2,
          3,
          4,
          5,
          6,
          7,
          8,
          9,
          10,
          11,
          12,
          13,
          14,
          15,
          16,
          17,
          18,
          19,
          20,
          21,
          22,
          23,
          24,
          25,
          26,
          27,
          28,
          29,
          30,
          31,
          32,
          33,
          34,
          35,
          36,
          37,
          38,
          39,
          40,
          41,
          42,
          43,
          44,
          45,
          46,
          47,
          48,
          49,
          50,
          51,
          52,
          53,
          54,
          55,
          56,
          57,
          58,
          59,
          60,
          61,
          62,
          63,
          64,
          65,
          66,
          67,
          68,
          69,
          70,
          71,
          72,
          73,
          74,
          75,
          76,
          77,
          78,
          79,
          80,
          81,
          82,
          83,
          84,
          85,
          86,
          87,
          88,
          89,
          90,
          91,
          92,
          93,
          94,
          95,
          96,
          97,
          98,
          99,
          100,
          101,
          102,
          103,
          104,
          105,
          106,
          107,
          108,
          109,
          110,
          111,
          112,
          113,
          114,
          115,
          116,
          117,
          118,
          119,
          120,
          121,
          122,
          123,
          124,
          125,
          126,
          127,
          128,
          129,
          130,
          131,
          132,
          133,
          134,
          135,
          136,
          137,
          138,
          139,
          140,
          141,
          142,
          143,
          144,
          145,
          146,
          147,
          148,
          149,
          150,
          151,
          152,
          153,
          154,
          155,
          156,
          157,
          158,
          159,
          160,
          161,
          162,
          163,
          164,
          165,
          166,
          167,
          168,
          169,
          170,
          171,
          172,
          173,
          174,
          175,
          176,
          177,
          178,
          179,
          180,
          181,
          182,
          183,
          184,
          185,
          186,
          187,
          188,
          189,
          190,
          191,
          192,
          193,
          194,
          195,
          196,
          197,
          198,
          199,
          200,
          201,
          202,
          203,
          204,
          205,
          206,
          207,
          208,
          209,
          210,
          211,
          212,
          213,
          214,
          215,
          216,
          217,
          218,
          219,
          220,
          221,
          222,
          223,
          224,
          225,
          226,
          227,
          228,
          229,
          230,
          231,
          232,
          233,
          234,
          235,
          236,
          237,
          238,
          239,
          240,
          241,
          242,
          243,
          244,
          245,
          246,
          247,
          248,
          249,
          250,
          251,
          252,
          253,
          254,
          255,
          256,
          257,
          258,
          259,
          260,
          261,
          262,
          263,
          264,
          265,
          266,
          267,
          268,
          269,
          270,
          271,
          272,
          273,
          274,
          275,
          276,
          277,
          278,
          279,
          280,
          281,
          282,
          283,
          284,
          285,
          286,
          287,
          288,
          289,
          290,
          291,
          292,
          293,
          294,
          295,
          296,
          297,
          298,
          299
         ],
         "xaxis": "x",
         "y": [
          -1.9469703090225463,
          2.4098343033415413,
          0.794827639348401,
          1.9163636105354793,
          -0.3783585703685589,
          -0.23078899548558499,
          1.3468685701140497,
          0.4240514210317228,
          0.5354682500157621,
          -0.6728339270735492,
          0.03126431368614653,
          -0.5415684599869273,
          -0.5009093905714269,
          0.08451015401644725,
          -0.155645096416522,
          1.0060937025445709,
          -1.8697993586020336,
          -1.3510177598027195,
          -0.8114611525703695,
          1.2249562676567625,
          0.5337805844117396,
          0.3779738872915217,
          2.4725109746687077,
          1.3304306223014282,
          0.42907008775039945,
          0.36053584850535564,
          0.35651301524217577,
          0.0006348859713221606,
          0.7138161576910892,
          -0.921460026938968,
          -2.190570488097225,
          1.1500812773481255,
          -0.1943554026128653,
          0.3073787016637721,
          -0.06543890582326971,
          -0.6687264021351558,
          -1.840548539924381,
          -0.22273914434988826,
          -0.5534710985824173,
          -1.3900031675262032,
          1.688095037123647,
          0.4996451067885392,
          -1.2104172336384655,
          -1.556535787002992,
          -1.5265321996900523,
          -1.00183661188706,
          0.3608601087403272,
          0.9272507137366085,
          -0.910395997115742,
          -2.3467830627622823,
          -0.24763613851742478,
          -0.7644703260434629,
          -0.3309867303730678,
          -0.9440264620320259,
          0.6117579919092959,
          0.7702626261693161,
          0.3754332472347853,
          0.3745060750115763,
          -0.022218207701671006,
          -0.24933470423377185,
          0.133939145944876,
          1.6381103009358826,
          -1.3747652393893186,
          -0.8275780470111258,
          -0.6568875599900729,
          0.7989105974425,
          0.029555678201718547,
          -0.1688833186466935,
          0.26145781908440235,
          0.19222374655870939,
          -1.4449152038969064,
          -0.521884852664432,
          0.43793135168014075,
          -1.134140722105717,
          -1.1898156873801438,
          -0.055908899386230525,
          1.2903618716635168,
          0.10530408293335294,
          -0.5786305417666905,
          0.1679903937704384,
          1.291133115763171,
          1.4488565923435568,
          -0.44820917300345997,
          0.16307063746719244,
          1.1334092101856625,
          -0.7261748643714648,
          1.474436093901929,
          0.4546024030596362,
          -0.19911850828096628,
          -0.08073621794048519,
          1.2978431328518956,
          0.7633412785285077,
          0.8194123705767681,
          -0.8400450225113706,
          -0.981196082776303,
          -0.6864842419712224,
          0.13329902582992145,
          1.9591671646408577,
          1.0962261765102872,
          0.7081966444327177,
          1.147897674538797,
          -1.4765659192465332,
          -0.5923237207465148,
          -0.020240656779998156,
          2.206279476114453,
          0.37099113061310285,
          -0.14606680048201504,
          -0.633247046907236,
          2.0465292802879675,
          0.3539451154201588,
          -0.3115646722768455,
          -1.359887422491416,
          0.5404094601179027,
          0.1469096402517425,
          1.3879942757895403,
          -0.5227767914752824,
          -0.7613154958250639,
          2.0359671391140184,
          -0.28426273087497306,
          1.0544809455213968,
          0.07248513327727196,
          -0.4036592961550817,
          -0.3664179331975895,
          1.1255692785171458,
          1.014110680574297,
          -0.007867235665120313,
          0.29984818157711657,
          1.4932201109945398,
          0.11737177773807315,
          -0.5413137909007361,
          -0.6700027594066899,
          -0.993338037282894,
          0.21138409547906387,
          -0.4138566869848933,
          0.8326714043981628,
          0.38755014557830225,
          -0.002356169401646926,
          0.32621785590846014,
          0.3933525767215575,
          0.14510976458831204,
          0.263859936595076,
          -1.2478930024293944,
          0.5935725821330894,
          0.19155526765277006,
          -1.3726590098674956,
          -1.5187436323407437,
          -0.5323141877834886,
          0.018927526962424415,
          -2.2164502435415234,
          -0.8654296944280493,
          -0.7313358127408403,
          -0.7812017818465846,
          0.7909122114484106,
          1.1301896804495406,
          -1.44313573096843,
          0.3175134995080279,
          1.4150227846205312,
          0.8426771717590913,
          2.092408674349978,
          -0.5630912540192702,
          -1.661460442047126,
          -0.6133629693536582,
          -1.6010899885006822,
          -0.6151719098150575,
          -1.7785964239473506,
          1.5688818895760315,
          -0.2686550698143308,
          -0.5286870090272157,
          -0.220467871755186,
          0.6229069912670678,
          1.0613298854010667,
          1.2117071362881693,
          -1.9589968338576311,
          1.0445750907297195,
          0.09042376502030741,
          0.3205164862669351,
          0.03884666946252827,
          1.4728631465353264,
          1.337164572345393,
          -0.5853450766105937,
          2.5575777808726428,
          -1.3507438682006012,
          0.42308395246200253,
          -0.3268331346307068,
          -0.11777844057566708,
          0.8949848776563881,
          -0.37158372527988287,
          -0.9620140111383546,
          0.359741304409043,
          1.4832678173167162,
          0.37769120435098535,
          2.37498282552672,
          0.2754521559692852,
          0.44261576384797446,
          -0.13368352705779823,
          -0.6074689539904014,
          0.3157150877650149,
          0.1523211220234574,
          -1.3312305968318816,
          -1.6109532529945823,
          1.3499604520175184,
          1.1730574015864943,
          0.7771738014512474,
          0.5338436921573564,
          1.7251846249085385,
          -0.20234114572688813,
          -0.35605327791039065,
          -0.22459143563620468,
          -1.7424915758281134,
          1.095359565132464,
          -0.22027507743285424,
          1.4465140161107566,
          -0.1980300006270693,
          0.19643221730566046,
          0.9911206388494915,
          0.2515005033691083,
          -1.3310539506911276,
          0.3796249387871144,
          -0.3632025385638698,
          1.9077090091943258,
          6.526996068595695,
          5.2694570170781745,
          5.477647321267542,
          3.9301454323868708,
          4.449621106736624,
          4.762675053693233,
          4.624173464530086,
          5.465981547986408,
          3.891665509437993,
          5.0647627346575135,
          4.856533513842294,
          7.326214390010035,
          3.9283336614609254,
          2.919176593027641,
          4.724748872346631,
          4.319559167233482,
          4.001749721040493,
          5.041597085305096,
          4.506453567923242,
          6.7976945443752985,
          5.391609645867366,
          3.9546408553915127,
          4.960225466921931,
          4.518360958039222,
          4.717962716712456,
          5.37283406750726,
          3.872437724338804,
          5.53091751612551,
          4.324604121048327,
          5.529101486712244,
          6.160116732350076,
          5.429795313235011,
          4.339789214079743,
          5.10591268218456,
          4.190186553498962,
          4.30357300495472,
          5.931176564685213,
          3.8428920009297154,
          5.867361440558293,
          4.396417615598349,
          5.855742967979804,
          5.382492451380753,
          5.264223585827221,
          3.218417947236791,
          3.706179353210273,
          4.367164048276294,
          5.185422785791361,
          3.873620315398237,
          5.0815919986427955,
          3.7545910323746403,
          5.735502994403921,
          6.011738629487958,
          4.0488638659620495,
          5.603347681762112,
          6.952185315337302,
          4.824542052082714,
          4.639344920119558,
          4.4563708140464495,
          4.014001009977739,
          1.8290602165168162,
          6.987621061569124,
          5.130737235666384,
          3.121522300421381,
          4.356022945837526,
          5.97794777720015,
          5.155210034441827,
          3.085929895277445,
          6.209683874849107,
          3.79977121566436,
          4.816198646793262,
          5.258882537052703,
          5.269834409731185,
          3.7214730200833035,
          5.506933045042198,
          6.313597284436124,
          4.939516090121548,
          6.393023272606347,
          3.2642189180321832,
          4.492490032802666,
          4.918492553658012
         ],
         "yaxis": "y"
        }
       ],
       "layout": {
        "legend": {
         "title": {
          "text": "variable"
         },
         "tracegroupgap": 0
        },
        "margin": {
         "t": 60
        },
        "template": {
         "data": {
          "bar": [
           {
            "error_x": {
             "color": "#2a3f5f"
            },
            "error_y": {
             "color": "#2a3f5f"
            },
            "marker": {
             "line": {
              "color": "#E5ECF6",
              "width": 0.5
             },
             "pattern": {
              "fillmode": "overlay",
              "size": 10,
              "solidity": 0.2
             }
            },
            "type": "bar"
           }
          ],
          "barpolar": [
           {
            "marker": {
             "line": {
              "color": "#E5ECF6",
              "width": 0.5
             },
             "pattern": {
              "fillmode": "overlay",
              "size": 10,
              "solidity": 0.2
             }
            },
            "type": "barpolar"
           }
          ],
          "carpet": [
           {
            "aaxis": {
             "endlinecolor": "#2a3f5f",
             "gridcolor": "white",
             "linecolor": "white",
             "minorgridcolor": "white",
             "startlinecolor": "#2a3f5f"
            },
            "baxis": {
             "endlinecolor": "#2a3f5f",
             "gridcolor": "white",
             "linecolor": "white",
             "minorgridcolor": "white",
             "startlinecolor": "#2a3f5f"
            },
            "type": "carpet"
           }
          ],
          "choropleth": [
           {
            "colorbar": {
             "outlinewidth": 0,
             "ticks": ""
            },
            "type": "choropleth"
           }
          ],
          "contour": [
           {
            "colorbar": {
             "outlinewidth": 0,
             "ticks": ""
            },
            "colorscale": [
             [
              0,
              "#0d0887"
             ],
             [
              0.1111111111111111,
              "#46039f"
             ],
             [
              0.2222222222222222,
              "#7201a8"
             ],
             [
              0.3333333333333333,
              "#9c179e"
             ],
             [
              0.4444444444444444,
              "#bd3786"
             ],
             [
              0.5555555555555556,
              "#d8576b"
             ],
             [
              0.6666666666666666,
              "#ed7953"
             ],
             [
              0.7777777777777778,
              "#fb9f3a"
             ],
             [
              0.8888888888888888,
              "#fdca26"
             ],
             [
              1,
              "#f0f921"
             ]
            ],
            "type": "contour"
           }
          ],
          "contourcarpet": [
           {
            "colorbar": {
             "outlinewidth": 0,
             "ticks": ""
            },
            "type": "contourcarpet"
           }
          ],
          "heatmap": [
           {
            "colorbar": {
             "outlinewidth": 0,
             "ticks": ""
            },
            "colorscale": [
             [
              0,
              "#0d0887"
             ],
             [
              0.1111111111111111,
              "#46039f"
             ],
             [
              0.2222222222222222,
              "#7201a8"
             ],
             [
              0.3333333333333333,
              "#9c179e"
             ],
             [
              0.4444444444444444,
              "#bd3786"
             ],
             [
              0.5555555555555556,
              "#d8576b"
             ],
             [
              0.6666666666666666,
              "#ed7953"
             ],
             [
              0.7777777777777778,
              "#fb9f3a"
             ],
             [
              0.8888888888888888,
              "#fdca26"
             ],
             [
              1,
              "#f0f921"
             ]
            ],
            "type": "heatmap"
           }
          ],
          "heatmapgl": [
           {
            "colorbar": {
             "outlinewidth": 0,
             "ticks": ""
            },
            "colorscale": [
             [
              0,
              "#0d0887"
             ],
             [
              0.1111111111111111,
              "#46039f"
             ],
             [
              0.2222222222222222,
              "#7201a8"
             ],
             [
              0.3333333333333333,
              "#9c179e"
             ],
             [
              0.4444444444444444,
              "#bd3786"
             ],
             [
              0.5555555555555556,
              "#d8576b"
             ],
             [
              0.6666666666666666,
              "#ed7953"
             ],
             [
              0.7777777777777778,
              "#fb9f3a"
             ],
             [
              0.8888888888888888,
              "#fdca26"
             ],
             [
              1,
              "#f0f921"
             ]
            ],
            "type": "heatmapgl"
           }
          ],
          "histogram": [
           {
            "marker": {
             "pattern": {
              "fillmode": "overlay",
              "size": 10,
              "solidity": 0.2
             }
            },
            "type": "histogram"
           }
          ],
          "histogram2d": [
           {
            "colorbar": {
             "outlinewidth": 0,
             "ticks": ""
            },
            "colorscale": [
             [
              0,
              "#0d0887"
             ],
             [
              0.1111111111111111,
              "#46039f"
             ],
             [
              0.2222222222222222,
              "#7201a8"
             ],
             [
              0.3333333333333333,
              "#9c179e"
             ],
             [
              0.4444444444444444,
              "#bd3786"
             ],
             [
              0.5555555555555556,
              "#d8576b"
             ],
             [
              0.6666666666666666,
              "#ed7953"
             ],
             [
              0.7777777777777778,
              "#fb9f3a"
             ],
             [
              0.8888888888888888,
              "#fdca26"
             ],
             [
              1,
              "#f0f921"
             ]
            ],
            "type": "histogram2d"
           }
          ],
          "histogram2dcontour": [
           {
            "colorbar": {
             "outlinewidth": 0,
             "ticks": ""
            },
            "colorscale": [
             [
              0,
              "#0d0887"
             ],
             [
              0.1111111111111111,
              "#46039f"
             ],
             [
              0.2222222222222222,
              "#7201a8"
             ],
             [
              0.3333333333333333,
              "#9c179e"
             ],
             [
              0.4444444444444444,
              "#bd3786"
             ],
             [
              0.5555555555555556,
              "#d8576b"
             ],
             [
              0.6666666666666666,
              "#ed7953"
             ],
             [
              0.7777777777777778,
              "#fb9f3a"
             ],
             [
              0.8888888888888888,
              "#fdca26"
             ],
             [
              1,
              "#f0f921"
             ]
            ],
            "type": "histogram2dcontour"
           }
          ],
          "mesh3d": [
           {
            "colorbar": {
             "outlinewidth": 0,
             "ticks": ""
            },
            "type": "mesh3d"
           }
          ],
          "parcoords": [
           {
            "line": {
             "colorbar": {
              "outlinewidth": 0,
              "ticks": ""
             }
            },
            "type": "parcoords"
           }
          ],
          "pie": [
           {
            "automargin": true,
            "type": "pie"
           }
          ],
          "scatter": [
           {
            "fillpattern": {
             "fillmode": "overlay",
             "size": 10,
             "solidity": 0.2
            },
            "type": "scatter"
           }
          ],
          "scatter3d": [
           {
            "line": {
             "colorbar": {
              "outlinewidth": 0,
              "ticks": ""
             }
            },
            "marker": {
             "colorbar": {
              "outlinewidth": 0,
              "ticks": ""
             }
            },
            "type": "scatter3d"
           }
          ],
          "scattercarpet": [
           {
            "marker": {
             "colorbar": {
              "outlinewidth": 0,
              "ticks": ""
             }
            },
            "type": "scattercarpet"
           }
          ],
          "scattergeo": [
           {
            "marker": {
             "colorbar": {
              "outlinewidth": 0,
              "ticks": ""
             }
            },
            "type": "scattergeo"
           }
          ],
          "scattergl": [
           {
            "marker": {
             "colorbar": {
              "outlinewidth": 0,
              "ticks": ""
             }
            },
            "type": "scattergl"
           }
          ],
          "scattermapbox": [
           {
            "marker": {
             "colorbar": {
              "outlinewidth": 0,
              "ticks": ""
             }
            },
            "type": "scattermapbox"
           }
          ],
          "scatterpolar": [
           {
            "marker": {
             "colorbar": {
              "outlinewidth": 0,
              "ticks": ""
             }
            },
            "type": "scatterpolar"
           }
          ],
          "scatterpolargl": [
           {
            "marker": {
             "colorbar": {
              "outlinewidth": 0,
              "ticks": ""
             }
            },
            "type": "scatterpolargl"
           }
          ],
          "scatterternary": [
           {
            "marker": {
             "colorbar": {
              "outlinewidth": 0,
              "ticks": ""
             }
            },
            "type": "scatterternary"
           }
          ],
          "surface": [
           {
            "colorbar": {
             "outlinewidth": 0,
             "ticks": ""
            },
            "colorscale": [
             [
              0,
              "#0d0887"
             ],
             [
              0.1111111111111111,
              "#46039f"
             ],
             [
              0.2222222222222222,
              "#7201a8"
             ],
             [
              0.3333333333333333,
              "#9c179e"
             ],
             [
              0.4444444444444444,
              "#bd3786"
             ],
             [
              0.5555555555555556,
              "#d8576b"
             ],
             [
              0.6666666666666666,
              "#ed7953"
             ],
             [
              0.7777777777777778,
              "#fb9f3a"
             ],
             [
              0.8888888888888888,
              "#fdca26"
             ],
             [
              1,
              "#f0f921"
             ]
            ],
            "type": "surface"
           }
          ],
          "table": [
           {
            "cells": {
             "fill": {
              "color": "#EBF0F8"
             },
             "line": {
              "color": "white"
             }
            },
            "header": {
             "fill": {
              "color": "#C8D4E3"
             },
             "line": {
              "color": "white"
             }
            },
            "type": "table"
           }
          ]
         },
         "layout": {
          "annotationdefaults": {
           "arrowcolor": "#2a3f5f",
           "arrowhead": 0,
           "arrowwidth": 1
          },
          "autotypenumbers": "strict",
          "coloraxis": {
           "colorbar": {
            "outlinewidth": 0,
            "ticks": ""
           }
          },
          "colorscale": {
           "diverging": [
            [
             0,
             "#8e0152"
            ],
            [
             0.1,
             "#c51b7d"
            ],
            [
             0.2,
             "#de77ae"
            ],
            [
             0.3,
             "#f1b6da"
            ],
            [
             0.4,
             "#fde0ef"
            ],
            [
             0.5,
             "#f7f7f7"
            ],
            [
             0.6,
             "#e6f5d0"
            ],
            [
             0.7,
             "#b8e186"
            ],
            [
             0.8,
             "#7fbc41"
            ],
            [
             0.9,
             "#4d9221"
            ],
            [
             1,
             "#276419"
            ]
           ],
           "sequential": [
            [
             0,
             "#0d0887"
            ],
            [
             0.1111111111111111,
             "#46039f"
            ],
            [
             0.2222222222222222,
             "#7201a8"
            ],
            [
             0.3333333333333333,
             "#9c179e"
            ],
            [
             0.4444444444444444,
             "#bd3786"
            ],
            [
             0.5555555555555556,
             "#d8576b"
            ],
            [
             0.6666666666666666,
             "#ed7953"
            ],
            [
             0.7777777777777778,
             "#fb9f3a"
            ],
            [
             0.8888888888888888,
             "#fdca26"
            ],
            [
             1,
             "#f0f921"
            ]
           ],
           "sequentialminus": [
            [
             0,
             "#0d0887"
            ],
            [
             0.1111111111111111,
             "#46039f"
            ],
            [
             0.2222222222222222,
             "#7201a8"
            ],
            [
             0.3333333333333333,
             "#9c179e"
            ],
            [
             0.4444444444444444,
             "#bd3786"
            ],
            [
             0.5555555555555556,
             "#d8576b"
            ],
            [
             0.6666666666666666,
             "#ed7953"
            ],
            [
             0.7777777777777778,
             "#fb9f3a"
            ],
            [
             0.8888888888888888,
             "#fdca26"
            ],
            [
             1,
             "#f0f921"
            ]
           ]
          },
          "colorway": [
           "#636efa",
           "#EF553B",
           "#00cc96",
           "#ab63fa",
           "#FFA15A",
           "#19d3f3",
           "#FF6692",
           "#B6E880",
           "#FF97FF",
           "#FECB52"
          ],
          "font": {
           "color": "#2a3f5f"
          },
          "geo": {
           "bgcolor": "white",
           "lakecolor": "white",
           "landcolor": "#E5ECF6",
           "showlakes": true,
           "showland": true,
           "subunitcolor": "white"
          },
          "hoverlabel": {
           "align": "left"
          },
          "hovermode": "closest",
          "mapbox": {
           "style": "light"
          },
          "paper_bgcolor": "white",
          "plot_bgcolor": "#E5ECF6",
          "polar": {
           "angularaxis": {
            "gridcolor": "white",
            "linecolor": "white",
            "ticks": ""
           },
           "bgcolor": "#E5ECF6",
           "radialaxis": {
            "gridcolor": "white",
            "linecolor": "white",
            "ticks": ""
           }
          },
          "scene": {
           "xaxis": {
            "backgroundcolor": "#E5ECF6",
            "gridcolor": "white",
            "gridwidth": 2,
            "linecolor": "white",
            "showbackground": true,
            "ticks": "",
            "zerolinecolor": "white"
           },
           "yaxis": {
            "backgroundcolor": "#E5ECF6",
            "gridcolor": "white",
            "gridwidth": 2,
            "linecolor": "white",
            "showbackground": true,
            "ticks": "",
            "zerolinecolor": "white"
           },
           "zaxis": {
            "backgroundcolor": "#E5ECF6",
            "gridcolor": "white",
            "gridwidth": 2,
            "linecolor": "white",
            "showbackground": true,
            "ticks": "",
            "zerolinecolor": "white"
           }
          },
          "shapedefaults": {
           "line": {
            "color": "#2a3f5f"
           }
          },
          "ternary": {
           "aaxis": {
            "gridcolor": "white",
            "linecolor": "white",
            "ticks": ""
           },
           "baxis": {
            "gridcolor": "white",
            "linecolor": "white",
            "ticks": ""
           },
           "bgcolor": "#E5ECF6",
           "caxis": {
            "gridcolor": "white",
            "linecolor": "white",
            "ticks": ""
           }
          },
          "title": {
           "x": 0.05
          },
          "xaxis": {
           "automargin": true,
           "gridcolor": "white",
           "linecolor": "white",
           "ticks": "",
           "title": {
            "standoff": 15
           },
           "zerolinecolor": "white",
           "zerolinewidth": 2
          },
          "yaxis": {
           "automargin": true,
           "gridcolor": "white",
           "linecolor": "white",
           "ticks": "",
           "title": {
            "standoff": 15
           },
           "zerolinecolor": "white",
           "zerolinewidth": 2
          }
         }
        },
        "xaxis": {
         "anchor": "y",
         "domain": [
          0,
          1
         ],
         "title": {
          "text": "time"
         }
        },
        "yaxis": {
         "anchor": "x",
         "domain": [
          0,
          1
         ],
         "title": {
          "text": "value"
         }
        }
       }
      }
     },
     "metadata": {},
     "output_type": "display_data"
    }
   ],
   "source": [
    "import plotly.express as px\n",
    "\n",
    "px.line(x)"
   ]
  },
  {
   "cell_type": "markdown",
   "metadata": {},
   "source": [
    "As in scikit-learn, the role of `fit` is to estimate certain parameters of the detector before it can be used for detection tasks on test data. In Skchange, all currently supported detectors have empty `fit` methods, but this may change in the future. \n",
    "<!-- the primary parameter to fit is the `penalty`. For example, `BIC = (n_params + 1) * log(n)`, where `n_params` is the total number of parameters in each segment and obtained from the change score, and `n=x.shape[0]`. -->"
   ]
  },
  {
   "cell_type": "code",
   "execution_count": 15,
   "metadata": {},
   "outputs": [
    {
     "data": {
      "text/html": [
       "<style>#sk-08a78135-4cd8-4674-947d-c4602dc1543f {\n",
       "    /* Definition of color scheme common for light and dark mode */\n",
       "    --sklearn-color-text: black;\n",
       "    --sklearn-color-line: gray;\n",
       "    /* Definition of color scheme for objects */\n",
       "    --sklearn-color-level-0: #fff5e6;\n",
       "    --sklearn-color-level-1: #f6e4d2;\n",
       "    --sklearn-color-level-2: #ffe0b3;\n",
       "    --sklearn-color-level-3: chocolate;\n",
       "\n",
       "    /* Specific color for light theme */\n",
       "    --sklearn-color-text-on-default-background: var(--theme-code-foreground, var(--jp-content-font-color1, black));\n",
       "    --sklearn-color-background: var(--theme-background, var(--jp-layout-color0, white));\n",
       "    --sklearn-color-border-box: var(--theme-code-foreground, var(--jp-content-font-color1, black));\n",
       "    --sklearn-color-icon: #696969;\n",
       "\n",
       "    @media (prefers-color-scheme: dark) {\n",
       "      /* Redefinition of color scheme for dark theme */\n",
       "      --sklearn-color-text-on-default-background: var(--theme-code-foreground, var(--jp-content-font-color1, white));\n",
       "      --sklearn-color-background: var(--theme-background, var(--jp-layout-color0, #111));\n",
       "      --sklearn-color-border-box: var(--theme-code-foreground, var(--jp-content-font-color1, white));\n",
       "      --sklearn-color-icon: #878787;\n",
       "    }\n",
       "  }\n",
       "\n",
       "  #sk-08a78135-4cd8-4674-947d-c4602dc1543f {\n",
       "    color: var(--sklearn-color-text);\n",
       "  }\n",
       "\n",
       "  #sk-08a78135-4cd8-4674-947d-c4602dc1543f pre {\n",
       "    padding: 0;\n",
       "  }\n",
       "\n",
       "  #sk-08a78135-4cd8-4674-947d-c4602dc1543f input.sk-hidden--visually {\n",
       "    border: 0;\n",
       "    clip: rect(1px 1px 1px 1px);\n",
       "    clip: rect(1px, 1px, 1px, 1px);\n",
       "    height: 1px;\n",
       "    margin: -1px;\n",
       "    overflow: hidden;\n",
       "    padding: 0;\n",
       "    position: absolute;\n",
       "    width: 1px;\n",
       "  }\n",
       "\n",
       "  #sk-08a78135-4cd8-4674-947d-c4602dc1543f div.sk-dashed-wrapped {\n",
       "    border: 1px dashed var(--sklearn-color-line);\n",
       "    margin: 0 0.4em 0.5em 0.4em;\n",
       "    box-sizing: border-box;\n",
       "    padding-bottom: 0.4em;\n",
       "    background-color: var(--sklearn-color-background);\n",
       "  }\n",
       "\n",
       "  #sk-08a78135-4cd8-4674-947d-c4602dc1543f div.sk-container {\n",
       "    /* jupyter's `normalize.less` sets `[hidden] { display: none; }`\n",
       "       but bootstrap.min.css set `[hidden] { display: none !important; }`\n",
       "       so we also need the `!important` here to be able to override the\n",
       "       default hidden behavior on the sphinx rendered scikit-learn.org.\n",
       "       See: https://github.com/scikit-learn/scikit-learn/issues/21755 */\n",
       "    display: inline-block !important;\n",
       "    position: relative;\n",
       "  }\n",
       "\n",
       "  #sk-08a78135-4cd8-4674-947d-c4602dc1543f div.sk-text-repr-fallback {\n",
       "    display: none;\n",
       "  }\n",
       "\n",
       "  div.sk-parallel-item,\n",
       "  div.sk-serial,\n",
       "  div.sk-item {\n",
       "    /* draw centered vertical line to link estimators */\n",
       "    background-image: linear-gradient(var(--sklearn-color-text-on-default-background), var(--sklearn-color-text-on-default-background));\n",
       "    background-size: 2px 100%;\n",
       "    background-repeat: no-repeat;\n",
       "    background-position: center center;\n",
       "  }\n",
       "\n",
       "  /* Parallel-specific style estimator block */\n",
       "\n",
       "  #sk-08a78135-4cd8-4674-947d-c4602dc1543f div.sk-parallel-item::after {\n",
       "    content: \"\";\n",
       "    width: 100%;\n",
       "    border-bottom: 2px solid var(--sklearn-color-text-on-default-background);\n",
       "    flex-grow: 1;\n",
       "  }\n",
       "\n",
       "  #sk-08a78135-4cd8-4674-947d-c4602dc1543f div.sk-parallel {\n",
       "    display: flex;\n",
       "    align-items: stretch;\n",
       "    justify-content: center;\n",
       "    background-color: var(--sklearn-color-background);\n",
       "    position: relative;\n",
       "  }\n",
       "\n",
       "  #sk-08a78135-4cd8-4674-947d-c4602dc1543f div.sk-parallel-item {\n",
       "    display: flex;\n",
       "    flex-direction: column;\n",
       "  }\n",
       "\n",
       "  #sk-08a78135-4cd8-4674-947d-c4602dc1543f div.sk-parallel-item:first-child::after {\n",
       "    align-self: flex-end;\n",
       "    width: 50%;\n",
       "  }\n",
       "\n",
       "  #sk-08a78135-4cd8-4674-947d-c4602dc1543f div.sk-parallel-item:last-child::after {\n",
       "    align-self: flex-start;\n",
       "    width: 50%;\n",
       "  }\n",
       "\n",
       "  #sk-08a78135-4cd8-4674-947d-c4602dc1543f div.sk-parallel-item:only-child::after {\n",
       "    width: 0;\n",
       "  }\n",
       "\n",
       "  /* Serial-specific style estimator block */\n",
       "\n",
       "  #sk-08a78135-4cd8-4674-947d-c4602dc1543f div.sk-serial {\n",
       "    display: flex;\n",
       "    flex-direction: column;\n",
       "    align-items: center;\n",
       "    background-color: var(--sklearn-color-background);\n",
       "    padding-right: 1em;\n",
       "    padding-left: 1em;\n",
       "  }\n",
       "\n",
       "\n",
       "  /* Toggleable style: style used for estimator/Pipeline/ColumnTransformer box that is\n",
       "  clickable and can be expanded/collapsed.\n",
       "  - Pipeline and ColumnTransformer use this feature and define the default style\n",
       "  - Estimators will overwrite some part of the style using the `sk-estimator` class\n",
       "  */\n",
       "\n",
       "  /* Pipeline and ColumnTransformer style (default) */\n",
       "\n",
       "  #sk-08a78135-4cd8-4674-947d-c4602dc1543f div.sk-toggleable {\n",
       "    /* Default theme specific background. It is overwritten whether we have a\n",
       "    specific estimator or a Pipeline/ColumnTransformer */\n",
       "    background-color: var(--sklearn-color-background);\n",
       "  }\n",
       "\n",
       "  /* Toggleable label */\n",
       "  #sk-08a78135-4cd8-4674-947d-c4602dc1543f label.sk-toggleable__label {\n",
       "    cursor: pointer;\n",
       "    display: block;\n",
       "    width: 100%;\n",
       "    margin-bottom: 0;\n",
       "    padding: 0.5em;\n",
       "    box-sizing: border-box;\n",
       "    text-align: center;\n",
       "  }\n",
       "\n",
       "  #sk-08a78135-4cd8-4674-947d-c4602dc1543f label.sk-toggleable__label-arrow:before {\n",
       "    /* Arrow on the left of the label */\n",
       "    content: \"▸\";\n",
       "    float: left;\n",
       "    margin-right: 0.25em;\n",
       "    color: var(--sklearn-color-icon);\n",
       "  }\n",
       "\n",
       "  #sk-08a78135-4cd8-4674-947d-c4602dc1543f label.sk-toggleable__label-arrow:hover:before {\n",
       "    color: var(--sklearn-color-text);\n",
       "  }\n",
       "\n",
       "  /* Toggleable content - dropdown */\n",
       "\n",
       "  #sk-08a78135-4cd8-4674-947d-c4602dc1543f div.sk-toggleable__content {\n",
       "    max-height: 0;\n",
       "    max-width: 0;\n",
       "    overflow: hidden;\n",
       "    text-align: left;\n",
       "    background-color: var(--sklearn-color-level-0);\n",
       "  }\n",
       "\n",
       "  #sk-08a78135-4cd8-4674-947d-c4602dc1543f div.sk-toggleable__content pre {\n",
       "    margin: 0.2em;\n",
       "    border-radius: 0.25em;\n",
       "    color: var(--sklearn-color-text);\n",
       "    background-color: var(--sklearn-color-level-0);\n",
       "  }\n",
       "\n",
       "  #sk-08a78135-4cd8-4674-947d-c4602dc1543f input.sk-toggleable__control:checked~div.sk-toggleable__content {\n",
       "    /* Expand drop-down */\n",
       "    max-height: 200px;\n",
       "    max-width: 100%;\n",
       "    overflow: auto;\n",
       "  }\n",
       "\n",
       "  #sk-08a78135-4cd8-4674-947d-c4602dc1543f input.sk-toggleable__control:checked~label.sk-toggleable__label-arrow:before {\n",
       "    content: \"▾\";\n",
       "  }\n",
       "\n",
       "  /* Pipeline/ColumnTransformer-specific style */\n",
       "\n",
       "  #sk-08a78135-4cd8-4674-947d-c4602dc1543f div.sk-label input.sk-toggleable__control:checked~label.sk-toggleable__label {\n",
       "    color: var(--sklearn-color-text);\n",
       "    background-color: var(--sklearn-color-level-2);\n",
       "  }\n",
       "\n",
       "  /* Estimator-specific style */\n",
       "\n",
       "  /* Colorize estimator box */\n",
       "  #sk-08a78135-4cd8-4674-947d-c4602dc1543f div.sk-estimator input.sk-toggleable__control:checked~label.sk-toggleable__label {\n",
       "    /* unfitted */\n",
       "    background-color: var(--sklearn-color-level-2);\n",
       "  }\n",
       "\n",
       "  #sk-08a78135-4cd8-4674-947d-c4602dc1543f div.sk-label label.sk-toggleable__label,\n",
       "  #sk-08a78135-4cd8-4674-947d-c4602dc1543f div.sk-label label {\n",
       "    /* The background is the default theme color */\n",
       "    color: var(--sklearn-color-text-on-default-background);\n",
       "  }\n",
       "\n",
       "  /* On hover, darken the color of the background */\n",
       "  #sk-08a78135-4cd8-4674-947d-c4602dc1543f div.sk-label:hover label.sk-toggleable__label {\n",
       "    color: var(--sklearn-color-text);\n",
       "    background-color: var(--sklearn-color-level-2);\n",
       "  }\n",
       "\n",
       "  /* Estimator label */\n",
       "\n",
       "  #sk-08a78135-4cd8-4674-947d-c4602dc1543f div.sk-label label {\n",
       "    font-family: monospace;\n",
       "    font-weight: bold;\n",
       "    display: inline-block;\n",
       "    line-height: 1.2em;\n",
       "  }\n",
       "\n",
       "  #sk-08a78135-4cd8-4674-947d-c4602dc1543f div.sk-label-container {\n",
       "    text-align: center;\n",
       "  }\n",
       "\n",
       "  /* Estimator-specific */\n",
       "  #sk-08a78135-4cd8-4674-947d-c4602dc1543f div.sk-estimator {\n",
       "    font-family: monospace;\n",
       "    border: 1px dotted var(--sklearn-color-border-box);\n",
       "    border-radius: 0.25em;\n",
       "    box-sizing: border-box;\n",
       "    margin-bottom: 0.5em;\n",
       "    background-color: var(--sklearn-color-level-0);\n",
       "  }\n",
       "\n",
       "  /* on hover */\n",
       "  #sk-08a78135-4cd8-4674-947d-c4602dc1543f div.sk-estimator:hover {\n",
       "    background-color: var(--sklearn-color-level-2);\n",
       "  }\n",
       "\n",
       "  /* Specification for estimator info */\n",
       "\n",
       "  .sk-estimator-doc-link,\n",
       "  a:link.sk-estimator-doc-link,\n",
       "  a:visited.sk-estimator-doc-link {\n",
       "    float: right;\n",
       "    font-size: smaller;\n",
       "    line-height: 1em;\n",
       "    font-family: monospace;\n",
       "    background-color: var(--sklearn-color-background);\n",
       "    border-radius: 1em;\n",
       "    height: 1em;\n",
       "    width: 1em;\n",
       "    text-decoration: none !important;\n",
       "    margin-left: 1ex;\n",
       "    border: var(--sklearn-color-level-1) 1pt solid;\n",
       "    color: var(--sklearn-color-level-1);\n",
       "  }\n",
       "\n",
       "  /* On hover */\n",
       "  div.sk-estimator:hover .sk-estimator-doc-link:hover,\n",
       "  .sk-estimator-doc-link:hover,\n",
       "  div.sk-label-container:hover .sk-estimator-doc-link:hover,\n",
       "  .sk-estimator-doc-link:hover {\n",
       "    background-color: var(--sklearn-color-level-3);\n",
       "    color: var(--sklearn-color-background);\n",
       "    text-decoration: none;\n",
       "  }\n",
       "\n",
       "  /* Span, style for the box shown on hovering the info icon */\n",
       "  .sk-estimator-doc-link span {\n",
       "    display: none;\n",
       "    z-index: 9999;\n",
       "    position: relative;\n",
       "    font-weight: normal;\n",
       "    right: .2ex;\n",
       "    padding: .5ex;\n",
       "    margin: .5ex;\n",
       "    width: min-content;\n",
       "    min-width: 20ex;\n",
       "    max-width: 50ex;\n",
       "    color: var(--sklearn-color-text);\n",
       "    box-shadow: 2pt 2pt 4pt #999;\n",
       "    background: var(--sklearn-color-level-0);\n",
       "    border: .5pt solid var(--sklearn-color-level-3);\n",
       "  }\n",
       "\n",
       "  .sk-estimator-doc-link:hover span {\n",
       "    display: block;\n",
       "  }\n",
       "\n",
       "  /* \"?\"-specific style due to the `<a>` HTML tag */\n",
       "\n",
       "  #sk-08a78135-4cd8-4674-947d-c4602dc1543f a.estimator_doc_link {\n",
       "    float: right;\n",
       "    font-size: 1rem;\n",
       "    line-height: 1em;\n",
       "    font-family: monospace;\n",
       "    background-color: var(--sklearn-color-background);\n",
       "    border-radius: 1rem;\n",
       "    height: 1rem;\n",
       "    width: 1rem;\n",
       "    text-decoration: none;\n",
       "    color: var(--sklearn-color-level-1);\n",
       "    border: var(--sklearn-color-level-1) 1pt solid;\n",
       "  }\n",
       "\n",
       "  /* On hover */\n",
       "  #sk-08a78135-4cd8-4674-947d-c4602dc1543f a.estimator_doc_link:hover {\n",
       "    background-color: var(--sklearn-color-level-3);\n",
       "    color: var(--sklearn-color-background);\n",
       "    text-decoration: none;\n",
       "  }\n",
       "</style><div id='sk-08a78135-4cd8-4674-947d-c4602dc1543f' class=\"sk-top-container\"><div class=\"sk-text-repr-fallback\"><pre>MovingWindow(change_score=CUSUM(), penalty=10)</pre><b>Please rerun this cell to show the HTML repr or trust the notebook.</b></div><div class=\"sk-container\" hidden><div class=\"sk-item sk-dashed-wrapped\"><div class='sk-label-container'><div class=\"sk-label sk-toggleable\"><input class=\"sk-toggleable__control sk-hidden--visually\" id=UUID('e24d0699-4bc0-41c6-b45e-5b7c31b8b7ab') type=\"checkbox\" ><label for=UUID('e24d0699-4bc0-41c6-b45e-5b7c31b8b7ab') class='sk-toggleable__label sk-toggleable__label-arrow'>MovingWindow</label><div class=\"sk-toggleable__content\"><pre>MovingWindow(change_score=CUSUM(), penalty=10)</pre></div></div></div><div class=\"sk-parallel\"><div class=\"sk-parallel-item\"><div class=\"sk-item\"><div class='sk-label-container'><div class=\"sk-label sk-toggleable\"><input class=\"sk-toggleable__control sk-hidden--visually\" id=UUID('7a2ad1a8-5523-4786-b26f-62f2a9e8beab') type=\"checkbox\" ><label for=UUID('7a2ad1a8-5523-4786-b26f-62f2a9e8beab') class='sk-toggleable__label sk-toggleable__label-arrow'>change_score: CUSUM</label><div class=\"sk-toggleable__content\"><pre>CUSUM()</pre></div></div></div><div class=\"sk-serial\"><div class='sk-item'><div class=\"sk-estimator sk-toggleable\"><input class=\"sk-toggleable__control sk-hidden--visually\" id=UUID('53758aea-9e52-415a-a637-517626d21e74') type=\"checkbox\" ><label for=UUID('53758aea-9e52-415a-a637-517626d21e74') class='sk-toggleable__label sk-toggleable__label-arrow'>CUSUM</label><div class=\"sk-toggleable__content\"><pre>CUSUM()</pre></div></div></div></div></div></div></div></div></div></div>"
      ],
      "text/plain": [
       "MovingWindow(change_score=CUSUM(), penalty=10)"
      ]
     },
     "execution_count": 15,
     "metadata": {},
     "output_type": "execute_result"
    }
   ],
   "source": [
    "detector.fit(x)"
   ]
  },
  {
   "cell_type": "markdown",
   "metadata": {},
   "source": [
    "### `predict`\n",
    "After fitting the detector, you can use it to detect change points. The `predict` method returns the integer locations of detected change points."
   ]
  },
  {
   "cell_type": "code",
   "execution_count": 17,
   "metadata": {},
   "outputs": [
    {
     "data": {
      "text/html": [
       "<div>\n",
       "<style scoped>\n",
       "    .dataframe tbody tr th:only-of-type {\n",
       "        vertical-align: middle;\n",
       "    }\n",
       "\n",
       "    .dataframe tbody tr th {\n",
       "        vertical-align: top;\n",
       "    }\n",
       "\n",
       "    .dataframe thead th {\n",
       "        text-align: right;\n",
       "    }\n",
       "</style>\n",
       "<table border=\"1\" class=\"dataframe\">\n",
       "  <thead>\n",
       "    <tr style=\"text-align: right;\">\n",
       "      <th></th>\n",
       "      <th>ilocs</th>\n",
       "    </tr>\n",
       "  </thead>\n",
       "  <tbody>\n",
       "    <tr>\n",
       "      <th>0</th>\n",
       "      <td>100</td>\n",
       "    </tr>\n",
       "    <tr>\n",
       "      <th>1</th>\n",
       "      <td>140</td>\n",
       "    </tr>\n",
       "    <tr>\n",
       "      <th>2</th>\n",
       "      <td>220</td>\n",
       "    </tr>\n",
       "  </tbody>\n",
       "</table>\n",
       "</div>"
      ],
      "text/plain": [
       "   ilocs\n",
       "0    100\n",
       "1    140\n",
       "2    220"
      ]
     },
     "execution_count": 17,
     "metadata": {},
     "output_type": "execute_result"
    }
   ],
   "source": [
    "detections = detector.predict(x)\n",
    "detections"
   ]
  },
  {
   "cell_type": "markdown",
   "metadata": {},
   "source": [
    "Note that change points indicate the start of a new segment."
   ]
  },
  {
   "cell_type": "markdown",
   "metadata": {},
   "source": [
    "### `transform`\n",
    "Alternatively, you can use the `transform` method to label the data according to the change point segmentation."
   ]
  },
  {
   "cell_type": "code",
   "execution_count": 19,
   "metadata": {},
   "outputs": [
    {
     "data": {
      "text/html": [
       "<div>\n",
       "<style scoped>\n",
       "    .dataframe tbody tr th:only-of-type {\n",
       "        vertical-align: middle;\n",
       "    }\n",
       "\n",
       "    .dataframe tbody tr th {\n",
       "        vertical-align: top;\n",
       "    }\n",
       "\n",
       "    .dataframe thead th {\n",
       "        text-align: right;\n",
       "    }\n",
       "</style>\n",
       "<table border=\"1\" class=\"dataframe\">\n",
       "  <thead>\n",
       "    <tr style=\"text-align: right;\">\n",
       "      <th></th>\n",
       "      <th>labels</th>\n",
       "    </tr>\n",
       "    <tr>\n",
       "      <th>time</th>\n",
       "      <th></th>\n",
       "    </tr>\n",
       "  </thead>\n",
       "  <tbody>\n",
       "    <tr>\n",
       "      <th>0</th>\n",
       "      <td>0</td>\n",
       "    </tr>\n",
       "    <tr>\n",
       "      <th>1</th>\n",
       "      <td>0</td>\n",
       "    </tr>\n",
       "    <tr>\n",
       "      <th>2</th>\n",
       "      <td>0</td>\n",
       "    </tr>\n",
       "    <tr>\n",
       "      <th>3</th>\n",
       "      <td>0</td>\n",
       "    </tr>\n",
       "    <tr>\n",
       "      <th>4</th>\n",
       "      <td>0</td>\n",
       "    </tr>\n",
       "    <tr>\n",
       "      <th>...</th>\n",
       "      <td>...</td>\n",
       "    </tr>\n",
       "    <tr>\n",
       "      <th>295</th>\n",
       "      <td>3</td>\n",
       "    </tr>\n",
       "    <tr>\n",
       "      <th>296</th>\n",
       "      <td>3</td>\n",
       "    </tr>\n",
       "    <tr>\n",
       "      <th>297</th>\n",
       "      <td>3</td>\n",
       "    </tr>\n",
       "    <tr>\n",
       "      <th>298</th>\n",
       "      <td>3</td>\n",
       "    </tr>\n",
       "    <tr>\n",
       "      <th>299</th>\n",
       "      <td>3</td>\n",
       "    </tr>\n",
       "  </tbody>\n",
       "</table>\n",
       "<p>300 rows × 1 columns</p>\n",
       "</div>"
      ],
      "text/plain": [
       "      labels\n",
       "time        \n",
       "0          0\n",
       "1          0\n",
       "2          0\n",
       "3          0\n",
       "4          0\n",
       "...      ...\n",
       "295        3\n",
       "296        3\n",
       "297        3\n",
       "298        3\n",
       "299        3\n",
       "\n",
       "[300 rows x 1 columns]"
      ]
     },
     "execution_count": 19,
     "metadata": {},
     "output_type": "execute_result"
    }
   ],
   "source": [
    "labels = detector.transform(x)\n",
    "labels"
   ]
  },
  {
   "cell_type": "code",
   "execution_count": 40,
   "metadata": {},
   "outputs": [
    {
     "data": {
      "application/vnd.plotly.v1+json": {
       "config": {
        "plotlyServerURL": "https://plot.ly"
       },
       "data": [
        {
         "hovertemplate": "variable=labels<br>time=%{x}<br>value=%{y}<extra></extra>",
         "legendgroup": "labels",
         "line": {
          "color": "#636efa",
          "dash": "solid"
         },
         "marker": {
          "symbol": "circle"
         },
         "mode": "lines",
         "name": "labels",
         "orientation": "v",
         "showlegend": true,
         "type": "scatter",
         "x": [
          0,
          1,
          2,
          3,
          4,
          5,
          6,
          7,
          8,
          9,
          10,
          11,
          12,
          13,
          14,
          15,
          16,
          17,
          18,
          19,
          20,
          21,
          22,
          23,
          24,
          25,
          26,
          27,
          28,
          29,
          30,
          31,
          32,
          33,
          34,
          35,
          36,
          37,
          38,
          39,
          40,
          41,
          42,
          43,
          44,
          45,
          46,
          47,
          48,
          49,
          50,
          51,
          52,
          53,
          54,
          55,
          56,
          57,
          58,
          59,
          60,
          61,
          62,
          63,
          64,
          65,
          66,
          67,
          68,
          69,
          70,
          71,
          72,
          73,
          74,
          75,
          76,
          77,
          78,
          79,
          80,
          81,
          82,
          83,
          84,
          85,
          86,
          87,
          88,
          89,
          90,
          91,
          92,
          93,
          94,
          95,
          96,
          97,
          98,
          99,
          100,
          101,
          102,
          103,
          104,
          105,
          106,
          107,
          108,
          109,
          110,
          111,
          112,
          113,
          114,
          115,
          116,
          117,
          118,
          119,
          120,
          121,
          122,
          123,
          124,
          125,
          126,
          127,
          128,
          129,
          130,
          131,
          132,
          133,
          134,
          135,
          136,
          137,
          138,
          139,
          140,
          141,
          142,
          143,
          144,
          145,
          146,
          147,
          148,
          149,
          150,
          151,
          152,
          153,
          154,
          155,
          156,
          157,
          158,
          159,
          160,
          161,
          162,
          163,
          164,
          165,
          166,
          167,
          168,
          169,
          170,
          171,
          172,
          173,
          174,
          175,
          176,
          177,
          178,
          179,
          180,
          181,
          182,
          183,
          184,
          185,
          186,
          187,
          188,
          189,
          190,
          191,
          192,
          193,
          194,
          195,
          196,
          197,
          198,
          199,
          200,
          201,
          202,
          203,
          204,
          205,
          206,
          207,
          208,
          209,
          210,
          211,
          212,
          213,
          214,
          215,
          216,
          217,
          218,
          219,
          220,
          221,
          222,
          223,
          224,
          225,
          226,
          227,
          228,
          229,
          230,
          231,
          232,
          233,
          234,
          235,
          236,
          237,
          238,
          239,
          240,
          241,
          242,
          243,
          244,
          245,
          246,
          247,
          248,
          249,
          250,
          251,
          252,
          253,
          254,
          255,
          256,
          257,
          258,
          259,
          260,
          261,
          262,
          263,
          264,
          265,
          266,
          267,
          268,
          269,
          270,
          271,
          272,
          273,
          274,
          275,
          276,
          277,
          278,
          279,
          280,
          281,
          282,
          283,
          284,
          285,
          286,
          287,
          288,
          289,
          290,
          291,
          292,
          293,
          294,
          295,
          296,
          297,
          298,
          299
         ],
         "xaxis": "x",
         "y": [
          0,
          0,
          0,
          0,
          0,
          0,
          0,
          0,
          0,
          0,
          0,
          0,
          0,
          0,
          0,
          0,
          0,
          0,
          0,
          0,
          0,
          0,
          0,
          0,
          0,
          0,
          0,
          0,
          0,
          0,
          0,
          0,
          0,
          0,
          0,
          0,
          0,
          0,
          0,
          0,
          0,
          0,
          0,
          0,
          0,
          0,
          0,
          0,
          0,
          0,
          0,
          0,
          0,
          0,
          0,
          0,
          0,
          0,
          0,
          0,
          0,
          0,
          0,
          0,
          0,
          0,
          0,
          0,
          0,
          0,
          0,
          0,
          0,
          0,
          0,
          0,
          0,
          0,
          0,
          0,
          0,
          0,
          0,
          0,
          0,
          0,
          0,
          0,
          0,
          0,
          0,
          0,
          0,
          0,
          0,
          0,
          0,
          0,
          0,
          0,
          1,
          1,
          1,
          1,
          1,
          1,
          1,
          1,
          1,
          1,
          1,
          1,
          1,
          1,
          1,
          1,
          1,
          1,
          1,
          1,
          1,
          1,
          1,
          1,
          1,
          1,
          1,
          1,
          1,
          1,
          1,
          1,
          1,
          1,
          1,
          1,
          1,
          1,
          1,
          1,
          2,
          2,
          2,
          2,
          2,
          2,
          2,
          2,
          2,
          2,
          2,
          2,
          2,
          2,
          2,
          2,
          2,
          2,
          2,
          2,
          2,
          2,
          2,
          2,
          2,
          2,
          2,
          2,
          2,
          2,
          2,
          2,
          2,
          2,
          2,
          2,
          2,
          2,
          2,
          2,
          2,
          2,
          2,
          2,
          2,
          2,
          2,
          2,
          2,
          2,
          2,
          2,
          2,
          2,
          2,
          2,
          2,
          2,
          2,
          2,
          2,
          2,
          2,
          2,
          2,
          2,
          2,
          2,
          2,
          2,
          2,
          2,
          2,
          2,
          2,
          2,
          2,
          2,
          2,
          2,
          3,
          3,
          3,
          3,
          3,
          3,
          3,
          3,
          3,
          3,
          3,
          3,
          3,
          3,
          3,
          3,
          3,
          3,
          3,
          3,
          3,
          3,
          3,
          3,
          3,
          3,
          3,
          3,
          3,
          3,
          3,
          3,
          3,
          3,
          3,
          3,
          3,
          3,
          3,
          3,
          3,
          3,
          3,
          3,
          3,
          3,
          3,
          3,
          3,
          3,
          3,
          3,
          3,
          3,
          3,
          3,
          3,
          3,
          3,
          3,
          3,
          3,
          3,
          3,
          3,
          3,
          3,
          3,
          3,
          3,
          3,
          3,
          3,
          3,
          3,
          3,
          3,
          3,
          3,
          3
         ],
         "yaxis": "y"
        }
       ],
       "layout": {
        "legend": {
         "title": {
          "text": "variable"
         },
         "tracegroupgap": 0
        },
        "margin": {
         "t": 60
        },
        "template": {
         "data": {
          "bar": [
           {
            "error_x": {
             "color": "#2a3f5f"
            },
            "error_y": {
             "color": "#2a3f5f"
            },
            "marker": {
             "line": {
              "color": "#E5ECF6",
              "width": 0.5
             },
             "pattern": {
              "fillmode": "overlay",
              "size": 10,
              "solidity": 0.2
             }
            },
            "type": "bar"
           }
          ],
          "barpolar": [
           {
            "marker": {
             "line": {
              "color": "#E5ECF6",
              "width": 0.5
             },
             "pattern": {
              "fillmode": "overlay",
              "size": 10,
              "solidity": 0.2
             }
            },
            "type": "barpolar"
           }
          ],
          "carpet": [
           {
            "aaxis": {
             "endlinecolor": "#2a3f5f",
             "gridcolor": "white",
             "linecolor": "white",
             "minorgridcolor": "white",
             "startlinecolor": "#2a3f5f"
            },
            "baxis": {
             "endlinecolor": "#2a3f5f",
             "gridcolor": "white",
             "linecolor": "white",
             "minorgridcolor": "white",
             "startlinecolor": "#2a3f5f"
            },
            "type": "carpet"
           }
          ],
          "choropleth": [
           {
            "colorbar": {
             "outlinewidth": 0,
             "ticks": ""
            },
            "type": "choropleth"
           }
          ],
          "contour": [
           {
            "colorbar": {
             "outlinewidth": 0,
             "ticks": ""
            },
            "colorscale": [
             [
              0,
              "#0d0887"
             ],
             [
              0.1111111111111111,
              "#46039f"
             ],
             [
              0.2222222222222222,
              "#7201a8"
             ],
             [
              0.3333333333333333,
              "#9c179e"
             ],
             [
              0.4444444444444444,
              "#bd3786"
             ],
             [
              0.5555555555555556,
              "#d8576b"
             ],
             [
              0.6666666666666666,
              "#ed7953"
             ],
             [
              0.7777777777777778,
              "#fb9f3a"
             ],
             [
              0.8888888888888888,
              "#fdca26"
             ],
             [
              1,
              "#f0f921"
             ]
            ],
            "type": "contour"
           }
          ],
          "contourcarpet": [
           {
            "colorbar": {
             "outlinewidth": 0,
             "ticks": ""
            },
            "type": "contourcarpet"
           }
          ],
          "heatmap": [
           {
            "colorbar": {
             "outlinewidth": 0,
             "ticks": ""
            },
            "colorscale": [
             [
              0,
              "#0d0887"
             ],
             [
              0.1111111111111111,
              "#46039f"
             ],
             [
              0.2222222222222222,
              "#7201a8"
             ],
             [
              0.3333333333333333,
              "#9c179e"
             ],
             [
              0.4444444444444444,
              "#bd3786"
             ],
             [
              0.5555555555555556,
              "#d8576b"
             ],
             [
              0.6666666666666666,
              "#ed7953"
             ],
             [
              0.7777777777777778,
              "#fb9f3a"
             ],
             [
              0.8888888888888888,
              "#fdca26"
             ],
             [
              1,
              "#f0f921"
             ]
            ],
            "type": "heatmap"
           }
          ],
          "heatmapgl": [
           {
            "colorbar": {
             "outlinewidth": 0,
             "ticks": ""
            },
            "colorscale": [
             [
              0,
              "#0d0887"
             ],
             [
              0.1111111111111111,
              "#46039f"
             ],
             [
              0.2222222222222222,
              "#7201a8"
             ],
             [
              0.3333333333333333,
              "#9c179e"
             ],
             [
              0.4444444444444444,
              "#bd3786"
             ],
             [
              0.5555555555555556,
              "#d8576b"
             ],
             [
              0.6666666666666666,
              "#ed7953"
             ],
             [
              0.7777777777777778,
              "#fb9f3a"
             ],
             [
              0.8888888888888888,
              "#fdca26"
             ],
             [
              1,
              "#f0f921"
             ]
            ],
            "type": "heatmapgl"
           }
          ],
          "histogram": [
           {
            "marker": {
             "pattern": {
              "fillmode": "overlay",
              "size": 10,
              "solidity": 0.2
             }
            },
            "type": "histogram"
           }
          ],
          "histogram2d": [
           {
            "colorbar": {
             "outlinewidth": 0,
             "ticks": ""
            },
            "colorscale": [
             [
              0,
              "#0d0887"
             ],
             [
              0.1111111111111111,
              "#46039f"
             ],
             [
              0.2222222222222222,
              "#7201a8"
             ],
             [
              0.3333333333333333,
              "#9c179e"
             ],
             [
              0.4444444444444444,
              "#bd3786"
             ],
             [
              0.5555555555555556,
              "#d8576b"
             ],
             [
              0.6666666666666666,
              "#ed7953"
             ],
             [
              0.7777777777777778,
              "#fb9f3a"
             ],
             [
              0.8888888888888888,
              "#fdca26"
             ],
             [
              1,
              "#f0f921"
             ]
            ],
            "type": "histogram2d"
           }
          ],
          "histogram2dcontour": [
           {
            "colorbar": {
             "outlinewidth": 0,
             "ticks": ""
            },
            "colorscale": [
             [
              0,
              "#0d0887"
             ],
             [
              0.1111111111111111,
              "#46039f"
             ],
             [
              0.2222222222222222,
              "#7201a8"
             ],
             [
              0.3333333333333333,
              "#9c179e"
             ],
             [
              0.4444444444444444,
              "#bd3786"
             ],
             [
              0.5555555555555556,
              "#d8576b"
             ],
             [
              0.6666666666666666,
              "#ed7953"
             ],
             [
              0.7777777777777778,
              "#fb9f3a"
             ],
             [
              0.8888888888888888,
              "#fdca26"
             ],
             [
              1,
              "#f0f921"
             ]
            ],
            "type": "histogram2dcontour"
           }
          ],
          "mesh3d": [
           {
            "colorbar": {
             "outlinewidth": 0,
             "ticks": ""
            },
            "type": "mesh3d"
           }
          ],
          "parcoords": [
           {
            "line": {
             "colorbar": {
              "outlinewidth": 0,
              "ticks": ""
             }
            },
            "type": "parcoords"
           }
          ],
          "pie": [
           {
            "automargin": true,
            "type": "pie"
           }
          ],
          "scatter": [
           {
            "fillpattern": {
             "fillmode": "overlay",
             "size": 10,
             "solidity": 0.2
            },
            "type": "scatter"
           }
          ],
          "scatter3d": [
           {
            "line": {
             "colorbar": {
              "outlinewidth": 0,
              "ticks": ""
             }
            },
            "marker": {
             "colorbar": {
              "outlinewidth": 0,
              "ticks": ""
             }
            },
            "type": "scatter3d"
           }
          ],
          "scattercarpet": [
           {
            "marker": {
             "colorbar": {
              "outlinewidth": 0,
              "ticks": ""
             }
            },
            "type": "scattercarpet"
           }
          ],
          "scattergeo": [
           {
            "marker": {
             "colorbar": {
              "outlinewidth": 0,
              "ticks": ""
             }
            },
            "type": "scattergeo"
           }
          ],
          "scattergl": [
           {
            "marker": {
             "colorbar": {
              "outlinewidth": 0,
              "ticks": ""
             }
            },
            "type": "scattergl"
           }
          ],
          "scattermapbox": [
           {
            "marker": {
             "colorbar": {
              "outlinewidth": 0,
              "ticks": ""
             }
            },
            "type": "scattermapbox"
           }
          ],
          "scatterpolar": [
           {
            "marker": {
             "colorbar": {
              "outlinewidth": 0,
              "ticks": ""
             }
            },
            "type": "scatterpolar"
           }
          ],
          "scatterpolargl": [
           {
            "marker": {
             "colorbar": {
              "outlinewidth": 0,
              "ticks": ""
             }
            },
            "type": "scatterpolargl"
           }
          ],
          "scatterternary": [
           {
            "marker": {
             "colorbar": {
              "outlinewidth": 0,
              "ticks": ""
             }
            },
            "type": "scatterternary"
           }
          ],
          "surface": [
           {
            "colorbar": {
             "outlinewidth": 0,
             "ticks": ""
            },
            "colorscale": [
             [
              0,
              "#0d0887"
             ],
             [
              0.1111111111111111,
              "#46039f"
             ],
             [
              0.2222222222222222,
              "#7201a8"
             ],
             [
              0.3333333333333333,
              "#9c179e"
             ],
             [
              0.4444444444444444,
              "#bd3786"
             ],
             [
              0.5555555555555556,
              "#d8576b"
             ],
             [
              0.6666666666666666,
              "#ed7953"
             ],
             [
              0.7777777777777778,
              "#fb9f3a"
             ],
             [
              0.8888888888888888,
              "#fdca26"
             ],
             [
              1,
              "#f0f921"
             ]
            ],
            "type": "surface"
           }
          ],
          "table": [
           {
            "cells": {
             "fill": {
              "color": "#EBF0F8"
             },
             "line": {
              "color": "white"
             }
            },
            "header": {
             "fill": {
              "color": "#C8D4E3"
             },
             "line": {
              "color": "white"
             }
            },
            "type": "table"
           }
          ]
         },
         "layout": {
          "annotationdefaults": {
           "arrowcolor": "#2a3f5f",
           "arrowhead": 0,
           "arrowwidth": 1
          },
          "autotypenumbers": "strict",
          "coloraxis": {
           "colorbar": {
            "outlinewidth": 0,
            "ticks": ""
           }
          },
          "colorscale": {
           "diverging": [
            [
             0,
             "#8e0152"
            ],
            [
             0.1,
             "#c51b7d"
            ],
            [
             0.2,
             "#de77ae"
            ],
            [
             0.3,
             "#f1b6da"
            ],
            [
             0.4,
             "#fde0ef"
            ],
            [
             0.5,
             "#f7f7f7"
            ],
            [
             0.6,
             "#e6f5d0"
            ],
            [
             0.7,
             "#b8e186"
            ],
            [
             0.8,
             "#7fbc41"
            ],
            [
             0.9,
             "#4d9221"
            ],
            [
             1,
             "#276419"
            ]
           ],
           "sequential": [
            [
             0,
             "#0d0887"
            ],
            [
             0.1111111111111111,
             "#46039f"
            ],
            [
             0.2222222222222222,
             "#7201a8"
            ],
            [
             0.3333333333333333,
             "#9c179e"
            ],
            [
             0.4444444444444444,
             "#bd3786"
            ],
            [
             0.5555555555555556,
             "#d8576b"
            ],
            [
             0.6666666666666666,
             "#ed7953"
            ],
            [
             0.7777777777777778,
             "#fb9f3a"
            ],
            [
             0.8888888888888888,
             "#fdca26"
            ],
            [
             1,
             "#f0f921"
            ]
           ],
           "sequentialminus": [
            [
             0,
             "#0d0887"
            ],
            [
             0.1111111111111111,
             "#46039f"
            ],
            [
             0.2222222222222222,
             "#7201a8"
            ],
            [
             0.3333333333333333,
             "#9c179e"
            ],
            [
             0.4444444444444444,
             "#bd3786"
            ],
            [
             0.5555555555555556,
             "#d8576b"
            ],
            [
             0.6666666666666666,
             "#ed7953"
            ],
            [
             0.7777777777777778,
             "#fb9f3a"
            ],
            [
             0.8888888888888888,
             "#fdca26"
            ],
            [
             1,
             "#f0f921"
            ]
           ]
          },
          "colorway": [
           "#636efa",
           "#EF553B",
           "#00cc96",
           "#ab63fa",
           "#FFA15A",
           "#19d3f3",
           "#FF6692",
           "#B6E880",
           "#FF97FF",
           "#FECB52"
          ],
          "font": {
           "color": "#2a3f5f"
          },
          "geo": {
           "bgcolor": "white",
           "lakecolor": "white",
           "landcolor": "#E5ECF6",
           "showlakes": true,
           "showland": true,
           "subunitcolor": "white"
          },
          "hoverlabel": {
           "align": "left"
          },
          "hovermode": "closest",
          "mapbox": {
           "style": "light"
          },
          "paper_bgcolor": "white",
          "plot_bgcolor": "#E5ECF6",
          "polar": {
           "angularaxis": {
            "gridcolor": "white",
            "linecolor": "white",
            "ticks": ""
           },
           "bgcolor": "#E5ECF6",
           "radialaxis": {
            "gridcolor": "white",
            "linecolor": "white",
            "ticks": ""
           }
          },
          "scene": {
           "xaxis": {
            "backgroundcolor": "#E5ECF6",
            "gridcolor": "white",
            "gridwidth": 2,
            "linecolor": "white",
            "showbackground": true,
            "ticks": "",
            "zerolinecolor": "white"
           },
           "yaxis": {
            "backgroundcolor": "#E5ECF6",
            "gridcolor": "white",
            "gridwidth": 2,
            "linecolor": "white",
            "showbackground": true,
            "ticks": "",
            "zerolinecolor": "white"
           },
           "zaxis": {
            "backgroundcolor": "#E5ECF6",
            "gridcolor": "white",
            "gridwidth": 2,
            "linecolor": "white",
            "showbackground": true,
            "ticks": "",
            "zerolinecolor": "white"
           }
          },
          "shapedefaults": {
           "line": {
            "color": "#2a3f5f"
           }
          },
          "ternary": {
           "aaxis": {
            "gridcolor": "white",
            "linecolor": "white",
            "ticks": ""
           },
           "baxis": {
            "gridcolor": "white",
            "linecolor": "white",
            "ticks": ""
           },
           "bgcolor": "#E5ECF6",
           "caxis": {
            "gridcolor": "white",
            "linecolor": "white",
            "ticks": ""
           }
          },
          "title": {
           "x": 0.05
          },
          "xaxis": {
           "automargin": true,
           "gridcolor": "white",
           "linecolor": "white",
           "ticks": "",
           "title": {
            "standoff": 15
           },
           "zerolinecolor": "white",
           "zerolinewidth": 2
          },
          "yaxis": {
           "automargin": true,
           "gridcolor": "white",
           "linecolor": "white",
           "ticks": "",
           "title": {
            "standoff": 15
           },
           "zerolinecolor": "white",
           "zerolinewidth": 2
          }
         }
        },
        "xaxis": {
         "anchor": "y",
         "domain": [
          0,
          1
         ],
         "title": {
          "text": "time"
         }
        },
        "yaxis": {
         "anchor": "x",
         "domain": [
          0,
          1
         ],
         "title": {
          "text": "value"
         }
        }
       }
      }
     },
     "metadata": {},
     "output_type": "display_data"
    }
   ],
   "source": [
    "px.line(labels)"
   ]
  },
  {
   "cell_type": "markdown",
   "metadata": {},
   "source": [
    "This is useful for e.g. grouping operations per segment:"
   ]
  },
  {
   "cell_type": "code",
   "execution_count": 20,
   "metadata": {},
   "outputs": [
    {
     "data": {
      "text/html": [
       "<div>\n",
       "<style scoped>\n",
       "    .dataframe tbody tr th:only-of-type {\n",
       "        vertical-align: middle;\n",
       "    }\n",
       "\n",
       "    .dataframe tbody tr th {\n",
       "        vertical-align: top;\n",
       "    }\n",
       "\n",
       "    .dataframe thead tr th {\n",
       "        text-align: left;\n",
       "    }\n",
       "\n",
       "    .dataframe thead tr:last-of-type th {\n",
       "        text-align: right;\n",
       "    }\n",
       "</style>\n",
       "<table border=\"1\" class=\"dataframe\">\n",
       "  <thead>\n",
       "    <tr>\n",
       "      <th></th>\n",
       "      <th colspan=\"2\" halign=\"left\">var0</th>\n",
       "      <th colspan=\"2\" halign=\"left\">var1</th>\n",
       "      <th colspan=\"2\" halign=\"left\">var2</th>\n",
       "    </tr>\n",
       "    <tr>\n",
       "      <th></th>\n",
       "      <th>mean</th>\n",
       "      <th>std</th>\n",
       "      <th>mean</th>\n",
       "      <th>std</th>\n",
       "      <th>mean</th>\n",
       "      <th>std</th>\n",
       "    </tr>\n",
       "    <tr>\n",
       "      <th>label</th>\n",
       "      <th></th>\n",
       "      <th></th>\n",
       "      <th></th>\n",
       "      <th></th>\n",
       "      <th></th>\n",
       "      <th></th>\n",
       "    </tr>\n",
       "  </thead>\n",
       "  <tbody>\n",
       "    <tr>\n",
       "      <th>0</th>\n",
       "      <td>-0.145056</td>\n",
       "      <td>1.038400</td>\n",
       "      <td>0.078223</td>\n",
       "      <td>1.107580</td>\n",
       "      <td>0.016803</td>\n",
       "      <td>1.013129</td>\n",
       "    </tr>\n",
       "    <tr>\n",
       "      <th>1</th>\n",
       "      <td>8.085414</td>\n",
       "      <td>0.938503</td>\n",
       "      <td>-0.181219</td>\n",
       "      <td>1.152032</td>\n",
       "      <td>0.205081</td>\n",
       "      <td>0.881243</td>\n",
       "    </tr>\n",
       "    <tr>\n",
       "      <th>2</th>\n",
       "      <td>0.143322</td>\n",
       "      <td>1.136743</td>\n",
       "      <td>0.126735</td>\n",
       "      <td>0.975529</td>\n",
       "      <td>0.066954</td>\n",
       "      <td>1.085700</td>\n",
       "    </tr>\n",
       "    <tr>\n",
       "      <th>3</th>\n",
       "      <td>2.248388</td>\n",
       "      <td>0.919702</td>\n",
       "      <td>2.959066</td>\n",
       "      <td>1.029075</td>\n",
       "      <td>4.851858</td>\n",
       "      <td>1.018683</td>\n",
       "    </tr>\n",
       "  </tbody>\n",
       "</table>\n",
       "</div>"
      ],
      "text/plain": [
       "           var0                var1                var2          \n",
       "           mean       std      mean       std      mean       std\n",
       "label                                                            \n",
       "0     -0.145056  1.038400  0.078223  1.107580  0.016803  1.013129\n",
       "1      8.085414  0.938503 -0.181219  1.152032  0.205081  0.881243\n",
       "2      0.143322  1.136743  0.126735  0.975529  0.066954  1.085700\n",
       "3      2.248388  0.919702  2.959066  1.029075  4.851858  1.018683"
      ]
     },
     "execution_count": 20,
     "metadata": {},
     "output_type": "execute_result"
    }
   ],
   "source": [
    "x[\"label\"] = labels\n",
    "x.groupby(\"label\").agg([\"mean\", \"std\"])"
   ]
  },
  {
   "cell_type": "markdown",
   "metadata": {},
   "source": [
    "### `transform_scores`\n",
    "Some detectors also support the `transform_scores` method, which returns the *penalised* change scores for each data point. This is the case for `MovingWindow`."
   ]
  },
  {
   "cell_type": "code",
   "execution_count": 21,
   "metadata": {},
   "outputs": [
    {
     "data": {
      "text/plain": [
       "time\n",
       "0     -10.0\n",
       "1     -10.0\n",
       "2     -10.0\n",
       "3     -10.0\n",
       "4     -10.0\n",
       "       ... \n",
       "295   -10.0\n",
       "296   -10.0\n",
       "297   -10.0\n",
       "298   -10.0\n",
       "299   -10.0\n",
       "Name: score, Length: 300, dtype: float64"
      ]
     },
     "execution_count": 21,
     "metadata": {},
     "output_type": "execute_result"
    }
   ],
   "source": [
    "detection_scores = detector.transform_scores(x)\n",
    "detection_scores"
   ]
  },
  {
   "cell_type": "code",
   "execution_count": 22,
   "metadata": {},
   "outputs": [
    {
     "data": {
      "application/vnd.plotly.v1+json": {
       "config": {
        "plotlyServerURL": "https://plot.ly"
       },
       "data": [
        {
         "hovertemplate": "variable=score<br>time=%{x}<br>value=%{y}<extra></extra>",
         "legendgroup": "score",
         "line": {
          "color": "#636efa",
          "dash": "solid"
         },
         "marker": {
          "symbol": "circle"
         },
         "mode": "lines",
         "name": "score",
         "orientation": "v",
         "showlegend": true,
         "type": "scatter",
         "x": [
          0,
          1,
          2,
          3,
          4,
          5,
          6,
          7,
          8,
          9,
          10,
          11,
          12,
          13,
          14,
          15,
          16,
          17,
          18,
          19,
          20,
          21,
          22,
          23,
          24,
          25,
          26,
          27,
          28,
          29,
          30,
          31,
          32,
          33,
          34,
          35,
          36,
          37,
          38,
          39,
          40,
          41,
          42,
          43,
          44,
          45,
          46,
          47,
          48,
          49,
          50,
          51,
          52,
          53,
          54,
          55,
          56,
          57,
          58,
          59,
          60,
          61,
          62,
          63,
          64,
          65,
          66,
          67,
          68,
          69,
          70,
          71,
          72,
          73,
          74,
          75,
          76,
          77,
          78,
          79,
          80,
          81,
          82,
          83,
          84,
          85,
          86,
          87,
          88,
          89,
          90,
          91,
          92,
          93,
          94,
          95,
          96,
          97,
          98,
          99,
          100,
          101,
          102,
          103,
          104,
          105,
          106,
          107,
          108,
          109,
          110,
          111,
          112,
          113,
          114,
          115,
          116,
          117,
          118,
          119,
          120,
          121,
          122,
          123,
          124,
          125,
          126,
          127,
          128,
          129,
          130,
          131,
          132,
          133,
          134,
          135,
          136,
          137,
          138,
          139,
          140,
          141,
          142,
          143,
          144,
          145,
          146,
          147,
          148,
          149,
          150,
          151,
          152,
          153,
          154,
          155,
          156,
          157,
          158,
          159,
          160,
          161,
          162,
          163,
          164,
          165,
          166,
          167,
          168,
          169,
          170,
          171,
          172,
          173,
          174,
          175,
          176,
          177,
          178,
          179,
          180,
          181,
          182,
          183,
          184,
          185,
          186,
          187,
          188,
          189,
          190,
          191,
          192,
          193,
          194,
          195,
          196,
          197,
          198,
          199,
          200,
          201,
          202,
          203,
          204,
          205,
          206,
          207,
          208,
          209,
          210,
          211,
          212,
          213,
          214,
          215,
          216,
          217,
          218,
          219,
          220,
          221,
          222,
          223,
          224,
          225,
          226,
          227,
          228,
          229,
          230,
          231,
          232,
          233,
          234,
          235,
          236,
          237,
          238,
          239,
          240,
          241,
          242,
          243,
          244,
          245,
          246,
          247,
          248,
          249,
          250,
          251,
          252,
          253,
          254,
          255,
          256,
          257,
          258,
          259,
          260,
          261,
          262,
          263,
          264,
          265,
          266,
          267,
          268,
          269,
          270,
          271,
          272,
          273,
          274,
          275,
          276,
          277,
          278,
          279,
          280,
          281,
          282,
          283,
          284,
          285,
          286,
          287,
          288,
          289,
          290,
          291,
          292,
          293,
          294,
          295,
          296,
          297,
          298,
          299
         ],
         "xaxis": "x",
         "y": [
          -10,
          -10,
          -10,
          -10,
          -10,
          -10,
          -10,
          -10,
          -10,
          -10,
          -10,
          -10,
          -10,
          -10,
          -10,
          -10,
          -10,
          -10,
          -10,
          -10,
          -10,
          -10,
          -10,
          -10,
          -10,
          -10,
          -10,
          -10,
          -10,
          -10,
          -5.276446964783027,
          -6.747139636184704,
          -6.836695635055939,
          -6.78165221719293,
          -6.504732146108476,
          -6.3181905367366875,
          -6.895898283792327,
          -7.195556198042494,
          -7.21613591056405,
          -6.585777867461688,
          -7.117486875558815,
          -5.469377375841285,
          -4.92193477552864,
          -5.602660989969135,
          -6.079213581392848,
          -6.1474895215009715,
          -7.066743896514056,
          -7.231049901027356,
          -6.408357120737706,
          -6.972847234571318,
          -7.226080124329458,
          -7.104548154547652,
          -6.030405908410248,
          -6.506843180846925,
          -6.634359277842292,
          -6.832200659962944,
          -7.045132934437447,
          -6.772034184143113,
          -6.615585716787903,
          -5.8487421316732755,
          -5.19815774547201,
          -5.76631105652187,
          -6.481405961822939,
          -5.540683392124821,
          -5.0939219178757735,
          -5.117687337951471,
          -6.497402425218749,
          -6.850903000402651,
          -6.691026168307946,
          -6.467797776209364,
          -6.86743665298893,
          -6.497120753581525,
          -6.818125265601118,
          -6.244154754942221,
          -4.922715011732294,
          -3.011047057929133,
          -1.5823587620765647,
          -0.45164317768819373,
          0.5909544476705673,
          1.9429003057364547,
          3.3189247114648186,
          4.055591874107288,
          5.210068604579174,
          6.680318018957642,
          7.422950374367307,
          9.262381290147268,
          11.323165241534646,
          12.098400413585736,
          13.919514910798615,
          15.479602508125595,
          15.710309535387378,
          16.769391572424965,
          17.245393977538324,
          18.167825463240902,
          19.241087145688624,
          20.594883516552365,
          22.97146190515641,
          24.416480061897616,
          25.374759269496607,
          26.18846954224108,
          26.369315778349403,
          25.566852370955445,
          23.710799530341653,
          22.95691891447936,
          22.803347172885395,
          22.46674931652882,
          20.831635596662288,
          18.67127335059557,
          17.32462951257312,
          16.349909560489124,
          15.22956711057898,
          12.836158628001652,
          10.422916668899912,
          8.783254615462653,
          5.868175626884936,
          4.698434806812564,
          2.2478554676003384,
          -0.8718326079447998,
          -2.2477417307933223,
          -3.6372076399201667,
          -5.603186515032334,
          -3.3383666368764953,
          -1.8971057086664764,
          -0.21974516128458887,
          1.4852350714380051,
          4.447874921873989,
          7.814417480676752,
          9.331740758089182,
          12.224620807402705,
          13.914968967225786,
          14.590432511039996,
          16.263648753569978,
          17.537181629742424,
          18.635514403429056,
          19.84022901176855,
          21.644863040479464,
          23.052068179503593,
          23.766610373070492,
          25.25607993412592,
          26.93341057374063,
          27.938032711325278,
          26.887382034666707,
          24.239262208691017,
          24.098786825196854,
          22.59613185290366,
          20.851645456088516,
          18.514731202292086,
          17.54630821764005,
          16.54492981822611,
          15.362911977918941,
          14.807668224813266,
          14.207084869417358,
          13.506455225656804,
          12.431468322071595,
          11.100352201643869,
          9.813298235668412,
          8.433537692484524,
          6.642427776933577,
          4.564183836553749,
          2.560655835440734,
          2.578801362883695,
          1.0976270661450727,
          0.4154918807839536,
          -0.24849858964505955,
          -1.4702577073138379,
          -1.8884348110927967,
          -3.650740956697031,
          -4.8628292237927155,
          -5.666469898304725,
          -7.085753359315294,
          -7.057095558068948,
          -8.079511004020347,
          -7.638444648188374,
          -6.361634532257273,
          -6.477665216078247,
          -6.309339526154991,
          -6.920713011040643,
          -7.404719068594018,
          -8.220883467909786,
          -9.118729784858107,
          -8.685365465523073,
          -9.066540540899611,
          -9.12769191150098,
          -8.284890312815278,
          -7.921312609515703,
          -8.628711075041743,
          -8.62594184472161,
          -8.272148991393943,
          -8.203300366857366,
          -8.322222294056969,
          -8.285566334224969,
          -7.585931281287192,
          -7.150116206001193,
          -6.209684868554672,
          -4.81143838703166,
          -3.6238301221896707,
          -2.6142009332438336,
          -1.126741910667734,
          1.0704460995022451,
          3.341334547682429,
          5.249973702859169,
          6.82329557769393,
          8.318986778247229,
          9.402222341569871,
          10.909901853663577,
          11.559233458191926,
          12.835253253527114,
          14.188367631132245,
          15.979327593781722,
          16.785072124130025,
          18.411522947347446,
          20.03885762055105,
          21.80164589628853,
          23.00623899048395,
          24.27783659711624,
          24.803868670850427,
          25.312064143937988,
          26.96647304697928,
          29.1333036514799,
          30.89980276415843,
          32.32053575531104,
          30.52414854548399,
          29.19778332031987,
          27.24198925699403,
          26.305345175755534,
          25.28884909314391,
          23.788868617005214,
          21.589039874431588,
          18.5525508355409,
          16.896614842889896,
          15.688693044037983,
          14.298793227504785,
          12.273856462414805,
          11.226307437013489,
          10.175688765902265,
          8.428035169869034,
          7.231381851889264,
          5.679835789882983,
          4.014642101746356,
          3.374514646557321,
          1.1198197032654775,
          -0.3335427175484753,
          -0.886420837360733,
          -3.3784864632366087,
          -4.1181684298552605,
          -5.364304983538256,
          -7.245687514883848,
          -7.492959563454411,
          -8.269542074544365,
          -6.852519548171994,
          -7.43772182971747,
          -7.917647985762342,
          -7.906199013492499,
          -7.876575788783237,
          -7.433700125630901,
          -7.123390853861775,
          -7.996605837835991,
          -8.01261424568323,
          -8.195487922678161,
          -7.603481737900893,
          -7.94826232597724,
          -7.973303889683871,
          -7.684034648677342,
          -7.090321381960695,
          -7.423990489206151,
          -8.128066225154548,
          -8.149470887108295,
          -8.366511340747806,
          -8.221371238482194,
          -8.0153493823044,
          -7.301908731027651,
          -10,
          -10,
          -10,
          -10,
          -10,
          -10,
          -10,
          -10,
          -10,
          -10,
          -10,
          -10,
          -10,
          -10,
          -10,
          -10,
          -10,
          -10,
          -10,
          -10,
          -10,
          -10,
          -10,
          -10,
          -10,
          -10,
          -10,
          -10,
          -10
         ],
         "yaxis": "y"
        }
       ],
       "layout": {
        "legend": {
         "title": {
          "text": "variable"
         },
         "tracegroupgap": 0
        },
        "margin": {
         "t": 60
        },
        "template": {
         "data": {
          "bar": [
           {
            "error_x": {
             "color": "#2a3f5f"
            },
            "error_y": {
             "color": "#2a3f5f"
            },
            "marker": {
             "line": {
              "color": "#E5ECF6",
              "width": 0.5
             },
             "pattern": {
              "fillmode": "overlay",
              "size": 10,
              "solidity": 0.2
             }
            },
            "type": "bar"
           }
          ],
          "barpolar": [
           {
            "marker": {
             "line": {
              "color": "#E5ECF6",
              "width": 0.5
             },
             "pattern": {
              "fillmode": "overlay",
              "size": 10,
              "solidity": 0.2
             }
            },
            "type": "barpolar"
           }
          ],
          "carpet": [
           {
            "aaxis": {
             "endlinecolor": "#2a3f5f",
             "gridcolor": "white",
             "linecolor": "white",
             "minorgridcolor": "white",
             "startlinecolor": "#2a3f5f"
            },
            "baxis": {
             "endlinecolor": "#2a3f5f",
             "gridcolor": "white",
             "linecolor": "white",
             "minorgridcolor": "white",
             "startlinecolor": "#2a3f5f"
            },
            "type": "carpet"
           }
          ],
          "choropleth": [
           {
            "colorbar": {
             "outlinewidth": 0,
             "ticks": ""
            },
            "type": "choropleth"
           }
          ],
          "contour": [
           {
            "colorbar": {
             "outlinewidth": 0,
             "ticks": ""
            },
            "colorscale": [
             [
              0,
              "#0d0887"
             ],
             [
              0.1111111111111111,
              "#46039f"
             ],
             [
              0.2222222222222222,
              "#7201a8"
             ],
             [
              0.3333333333333333,
              "#9c179e"
             ],
             [
              0.4444444444444444,
              "#bd3786"
             ],
             [
              0.5555555555555556,
              "#d8576b"
             ],
             [
              0.6666666666666666,
              "#ed7953"
             ],
             [
              0.7777777777777778,
              "#fb9f3a"
             ],
             [
              0.8888888888888888,
              "#fdca26"
             ],
             [
              1,
              "#f0f921"
             ]
            ],
            "type": "contour"
           }
          ],
          "contourcarpet": [
           {
            "colorbar": {
             "outlinewidth": 0,
             "ticks": ""
            },
            "type": "contourcarpet"
           }
          ],
          "heatmap": [
           {
            "colorbar": {
             "outlinewidth": 0,
             "ticks": ""
            },
            "colorscale": [
             [
              0,
              "#0d0887"
             ],
             [
              0.1111111111111111,
              "#46039f"
             ],
             [
              0.2222222222222222,
              "#7201a8"
             ],
             [
              0.3333333333333333,
              "#9c179e"
             ],
             [
              0.4444444444444444,
              "#bd3786"
             ],
             [
              0.5555555555555556,
              "#d8576b"
             ],
             [
              0.6666666666666666,
              "#ed7953"
             ],
             [
              0.7777777777777778,
              "#fb9f3a"
             ],
             [
              0.8888888888888888,
              "#fdca26"
             ],
             [
              1,
              "#f0f921"
             ]
            ],
            "type": "heatmap"
           }
          ],
          "heatmapgl": [
           {
            "colorbar": {
             "outlinewidth": 0,
             "ticks": ""
            },
            "colorscale": [
             [
              0,
              "#0d0887"
             ],
             [
              0.1111111111111111,
              "#46039f"
             ],
             [
              0.2222222222222222,
              "#7201a8"
             ],
             [
              0.3333333333333333,
              "#9c179e"
             ],
             [
              0.4444444444444444,
              "#bd3786"
             ],
             [
              0.5555555555555556,
              "#d8576b"
             ],
             [
              0.6666666666666666,
              "#ed7953"
             ],
             [
              0.7777777777777778,
              "#fb9f3a"
             ],
             [
              0.8888888888888888,
              "#fdca26"
             ],
             [
              1,
              "#f0f921"
             ]
            ],
            "type": "heatmapgl"
           }
          ],
          "histogram": [
           {
            "marker": {
             "pattern": {
              "fillmode": "overlay",
              "size": 10,
              "solidity": 0.2
             }
            },
            "type": "histogram"
           }
          ],
          "histogram2d": [
           {
            "colorbar": {
             "outlinewidth": 0,
             "ticks": ""
            },
            "colorscale": [
             [
              0,
              "#0d0887"
             ],
             [
              0.1111111111111111,
              "#46039f"
             ],
             [
              0.2222222222222222,
              "#7201a8"
             ],
             [
              0.3333333333333333,
              "#9c179e"
             ],
             [
              0.4444444444444444,
              "#bd3786"
             ],
             [
              0.5555555555555556,
              "#d8576b"
             ],
             [
              0.6666666666666666,
              "#ed7953"
             ],
             [
              0.7777777777777778,
              "#fb9f3a"
             ],
             [
              0.8888888888888888,
              "#fdca26"
             ],
             [
              1,
              "#f0f921"
             ]
            ],
            "type": "histogram2d"
           }
          ],
          "histogram2dcontour": [
           {
            "colorbar": {
             "outlinewidth": 0,
             "ticks": ""
            },
            "colorscale": [
             [
              0,
              "#0d0887"
             ],
             [
              0.1111111111111111,
              "#46039f"
             ],
             [
              0.2222222222222222,
              "#7201a8"
             ],
             [
              0.3333333333333333,
              "#9c179e"
             ],
             [
              0.4444444444444444,
              "#bd3786"
             ],
             [
              0.5555555555555556,
              "#d8576b"
             ],
             [
              0.6666666666666666,
              "#ed7953"
             ],
             [
              0.7777777777777778,
              "#fb9f3a"
             ],
             [
              0.8888888888888888,
              "#fdca26"
             ],
             [
              1,
              "#f0f921"
             ]
            ],
            "type": "histogram2dcontour"
           }
          ],
          "mesh3d": [
           {
            "colorbar": {
             "outlinewidth": 0,
             "ticks": ""
            },
            "type": "mesh3d"
           }
          ],
          "parcoords": [
           {
            "line": {
             "colorbar": {
              "outlinewidth": 0,
              "ticks": ""
             }
            },
            "type": "parcoords"
           }
          ],
          "pie": [
           {
            "automargin": true,
            "type": "pie"
           }
          ],
          "scatter": [
           {
            "fillpattern": {
             "fillmode": "overlay",
             "size": 10,
             "solidity": 0.2
            },
            "type": "scatter"
           }
          ],
          "scatter3d": [
           {
            "line": {
             "colorbar": {
              "outlinewidth": 0,
              "ticks": ""
             }
            },
            "marker": {
             "colorbar": {
              "outlinewidth": 0,
              "ticks": ""
             }
            },
            "type": "scatter3d"
           }
          ],
          "scattercarpet": [
           {
            "marker": {
             "colorbar": {
              "outlinewidth": 0,
              "ticks": ""
             }
            },
            "type": "scattercarpet"
           }
          ],
          "scattergeo": [
           {
            "marker": {
             "colorbar": {
              "outlinewidth": 0,
              "ticks": ""
             }
            },
            "type": "scattergeo"
           }
          ],
          "scattergl": [
           {
            "marker": {
             "colorbar": {
              "outlinewidth": 0,
              "ticks": ""
             }
            },
            "type": "scattergl"
           }
          ],
          "scattermapbox": [
           {
            "marker": {
             "colorbar": {
              "outlinewidth": 0,
              "ticks": ""
             }
            },
            "type": "scattermapbox"
           }
          ],
          "scatterpolar": [
           {
            "marker": {
             "colorbar": {
              "outlinewidth": 0,
              "ticks": ""
             }
            },
            "type": "scatterpolar"
           }
          ],
          "scatterpolargl": [
           {
            "marker": {
             "colorbar": {
              "outlinewidth": 0,
              "ticks": ""
             }
            },
            "type": "scatterpolargl"
           }
          ],
          "scatterternary": [
           {
            "marker": {
             "colorbar": {
              "outlinewidth": 0,
              "ticks": ""
             }
            },
            "type": "scatterternary"
           }
          ],
          "surface": [
           {
            "colorbar": {
             "outlinewidth": 0,
             "ticks": ""
            },
            "colorscale": [
             [
              0,
              "#0d0887"
             ],
             [
              0.1111111111111111,
              "#46039f"
             ],
             [
              0.2222222222222222,
              "#7201a8"
             ],
             [
              0.3333333333333333,
              "#9c179e"
             ],
             [
              0.4444444444444444,
              "#bd3786"
             ],
             [
              0.5555555555555556,
              "#d8576b"
             ],
             [
              0.6666666666666666,
              "#ed7953"
             ],
             [
              0.7777777777777778,
              "#fb9f3a"
             ],
             [
              0.8888888888888888,
              "#fdca26"
             ],
             [
              1,
              "#f0f921"
             ]
            ],
            "type": "surface"
           }
          ],
          "table": [
           {
            "cells": {
             "fill": {
              "color": "#EBF0F8"
             },
             "line": {
              "color": "white"
             }
            },
            "header": {
             "fill": {
              "color": "#C8D4E3"
             },
             "line": {
              "color": "white"
             }
            },
            "type": "table"
           }
          ]
         },
         "layout": {
          "annotationdefaults": {
           "arrowcolor": "#2a3f5f",
           "arrowhead": 0,
           "arrowwidth": 1
          },
          "autotypenumbers": "strict",
          "coloraxis": {
           "colorbar": {
            "outlinewidth": 0,
            "ticks": ""
           }
          },
          "colorscale": {
           "diverging": [
            [
             0,
             "#8e0152"
            ],
            [
             0.1,
             "#c51b7d"
            ],
            [
             0.2,
             "#de77ae"
            ],
            [
             0.3,
             "#f1b6da"
            ],
            [
             0.4,
             "#fde0ef"
            ],
            [
             0.5,
             "#f7f7f7"
            ],
            [
             0.6,
             "#e6f5d0"
            ],
            [
             0.7,
             "#b8e186"
            ],
            [
             0.8,
             "#7fbc41"
            ],
            [
             0.9,
             "#4d9221"
            ],
            [
             1,
             "#276419"
            ]
           ],
           "sequential": [
            [
             0,
             "#0d0887"
            ],
            [
             0.1111111111111111,
             "#46039f"
            ],
            [
             0.2222222222222222,
             "#7201a8"
            ],
            [
             0.3333333333333333,
             "#9c179e"
            ],
            [
             0.4444444444444444,
             "#bd3786"
            ],
            [
             0.5555555555555556,
             "#d8576b"
            ],
            [
             0.6666666666666666,
             "#ed7953"
            ],
            [
             0.7777777777777778,
             "#fb9f3a"
            ],
            [
             0.8888888888888888,
             "#fdca26"
            ],
            [
             1,
             "#f0f921"
            ]
           ],
           "sequentialminus": [
            [
             0,
             "#0d0887"
            ],
            [
             0.1111111111111111,
             "#46039f"
            ],
            [
             0.2222222222222222,
             "#7201a8"
            ],
            [
             0.3333333333333333,
             "#9c179e"
            ],
            [
             0.4444444444444444,
             "#bd3786"
            ],
            [
             0.5555555555555556,
             "#d8576b"
            ],
            [
             0.6666666666666666,
             "#ed7953"
            ],
            [
             0.7777777777777778,
             "#fb9f3a"
            ],
            [
             0.8888888888888888,
             "#fdca26"
            ],
            [
             1,
             "#f0f921"
            ]
           ]
          },
          "colorway": [
           "#636efa",
           "#EF553B",
           "#00cc96",
           "#ab63fa",
           "#FFA15A",
           "#19d3f3",
           "#FF6692",
           "#B6E880",
           "#FF97FF",
           "#FECB52"
          ],
          "font": {
           "color": "#2a3f5f"
          },
          "geo": {
           "bgcolor": "white",
           "lakecolor": "white",
           "landcolor": "#E5ECF6",
           "showlakes": true,
           "showland": true,
           "subunitcolor": "white"
          },
          "hoverlabel": {
           "align": "left"
          },
          "hovermode": "closest",
          "mapbox": {
           "style": "light"
          },
          "paper_bgcolor": "white",
          "plot_bgcolor": "#E5ECF6",
          "polar": {
           "angularaxis": {
            "gridcolor": "white",
            "linecolor": "white",
            "ticks": ""
           },
           "bgcolor": "#E5ECF6",
           "radialaxis": {
            "gridcolor": "white",
            "linecolor": "white",
            "ticks": ""
           }
          },
          "scene": {
           "xaxis": {
            "backgroundcolor": "#E5ECF6",
            "gridcolor": "white",
            "gridwidth": 2,
            "linecolor": "white",
            "showbackground": true,
            "ticks": "",
            "zerolinecolor": "white"
           },
           "yaxis": {
            "backgroundcolor": "#E5ECF6",
            "gridcolor": "white",
            "gridwidth": 2,
            "linecolor": "white",
            "showbackground": true,
            "ticks": "",
            "zerolinecolor": "white"
           },
           "zaxis": {
            "backgroundcolor": "#E5ECF6",
            "gridcolor": "white",
            "gridwidth": 2,
            "linecolor": "white",
            "showbackground": true,
            "ticks": "",
            "zerolinecolor": "white"
           }
          },
          "shapedefaults": {
           "line": {
            "color": "#2a3f5f"
           }
          },
          "ternary": {
           "aaxis": {
            "gridcolor": "white",
            "linecolor": "white",
            "ticks": ""
           },
           "baxis": {
            "gridcolor": "white",
            "linecolor": "white",
            "ticks": ""
           },
           "bgcolor": "#E5ECF6",
           "caxis": {
            "gridcolor": "white",
            "linecolor": "white",
            "ticks": ""
           }
          },
          "title": {
           "x": 0.05
          },
          "xaxis": {
           "automargin": true,
           "gridcolor": "white",
           "linecolor": "white",
           "ticks": "",
           "title": {
            "standoff": 15
           },
           "zerolinecolor": "white",
           "zerolinewidth": 2
          },
          "yaxis": {
           "automargin": true,
           "gridcolor": "white",
           "linecolor": "white",
           "ticks": "",
           "title": {
            "standoff": 15
           },
           "zerolinecolor": "white",
           "zerolinewidth": 2
          }
         }
        },
        "xaxis": {
         "anchor": "y",
         "domain": [
          0,
          1
         ],
         "title": {
          "text": "time"
         }
        },
        "yaxis": {
         "anchor": "x",
         "domain": [
          0,
          1
         ],
         "title": {
          "text": "value"
         }
        }
       }
      }
     },
     "metadata": {},
     "output_type": "display_data"
    }
   ],
   "source": [
    "import plotly.express as px\n",
    "\n",
    "px.line(detection_scores)"
   ]
  },
  {
   "cell_type": "markdown",
   "metadata": {},
   "source": [
    "## Segment anomaly detection\n"
   ]
  },
  {
   "cell_type": "markdown",
   "metadata": {},
   "source": [
    "### The task"
   ]
  },
  {
   "cell_type": "markdown",
   "metadata": {},
   "source": [
    "### Composable segment anomaly detectors"
   ]
  },
  {
   "cell_type": "markdown",
   "metadata": {},
   "source": [
    "### `fit`"
   ]
  },
  {
   "cell_type": "markdown",
   "metadata": {},
   "source": [
    "### `predict`"
   ]
  },
  {
   "cell_type": "markdown",
   "metadata": {},
   "source": [
    "### `transform`"
   ]
  },
  {
   "cell_type": "markdown",
   "metadata": {},
   "source": [
    "### `transform_scores`"
   ]
  },
  {
   "cell_type": "markdown",
   "metadata": {},
   "source": []
  }
 ],
 "metadata": {
  "kernelspec": {
   "display_name": ".venv",
   "language": "python",
   "name": "python3"
  },
  "language_info": {
   "codemirror_mode": {
    "name": "ipython",
    "version": 3
   },
   "file_extension": ".py",
   "mimetype": "text/x-python",
   "name": "python",
   "nbconvert_exporter": "python",
   "pygments_lexer": "ipython3",
   "version": "3.12.10"
  }
 },
 "nbformat": 4,
 "nbformat_minor": 2
}
